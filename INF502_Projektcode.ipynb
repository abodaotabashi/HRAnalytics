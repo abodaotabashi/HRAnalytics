{
  "cells": [
    {
      "cell_type": "markdown",
      "metadata": {
        "id": "yObn8R_oG68C"
      },
      "source": [
        "# INF502 - Project"
      ]
    },
    {
      "cell_type": "markdown",
      "metadata": {
        "id": "Ek7tFf3hHO8I"
      },
      "source": [
        "<h3>Abdurrahman ODABAŞI, Baraa ALSALEH, Muhammed ŞİHEBİ</h3>"
      ]
    },
    {
      "cell_type": "markdown",
      "metadata": {
        "id": "wF8n8IycHJUI"
      },
      "source": [
        "<h3>Problem Description:</h3>\n",
        "\n",
        "<p>A company which is active in Big Data and Data Science wants to hire data scientists among people who successfully pass some courses which conduct by the company. Many people signup for their training. Company wants to know which of these candidates are really wants to work for the company after training or looking for a new employment because it helps to reduce the cost and time as well as the quality of training or planning the courses and categorization of candidates. Information related to demographics, education, experience are in hands from candidates signup and enrollment.\n",
        "\n",
        "This dataset designed to understand the factors that lead a person to leave current job for HR researches too. By model(s) that uses the current credentials,demographics,experience data you will predict the probability of a candidate to look for a new job or will work for the company, as well as interpreting affected factors on employee decision.\n",
        "\n",
        "The whole data divided to train and test . Target isn't included in test but the test target values data file is in hands for related tasks. A sample submission correspond to enrollee_id of test set provided too with columns : enrollee _id , target</p>\n",
        "\n",
        "<h4>Note:</h4>\n",
        "<li>The dataset is imbalanced.</li>\n",
        "<li>Most features are categorical (Nominal, Ordinal, Binary), some with high cardinality.</li>\n",
        "<li>Missing imputation can be a part of your pipeline as well.</li>\n",
        "\n",
        "<h4>Features:</h4>\n",
        "<li>enrollee_id : Unique ID for candidate</li>\n",
        "<li>city: City code</li>\n",
        "<li>city_ development _index : Developement index of the city (scaled)</li>\n",
        "<li>gender: Gender of candidate</li>\n",
        "<li>relevent_experience: Relevant experience of candidate</li>\n",
        "<li>enrolled_university: Type of University course enrolled if any</li>\n",
        "<li>education_level: Education level of candidate</li>\n",
        "<li>major_discipline :Education major discipline of candidate</li>\n",
        "<li>experience: Candidate total experience in years</li>\n",
        "<li>company_size: No of employees in current employer's company</li>\n",
        "<li>company_type : Type of current employer</li>\n",
        "<li>lastnewjob: Difference in years between previous job and current job</li>\n",
        "<li>training_hours: training hours completed</li>\n",
        "<li>target: 0 – Not looking for job change, 1 – Looking for a job change</li>\n",
        "\n",
        "<a href=\"https://www.kaggle.com/arashnic/hr-analytics-job-change-of-data-scientists\">Link to the dataset in Kaggel.com</a>\n",
        "\n"
      ]
    },
    {
      "cell_type": "markdown",
      "metadata": {
        "id": "SS7zDIVH_3Me"
      },
      "source": [
        "# Imports"
      ]
    },
    {
      "cell_type": "code",
      "execution_count": null,
      "metadata": {
        "id": "1kVp6MzT_3Mh"
      },
      "outputs": [],
      "source": [
        "# Python ≥3.5 is required\n",
        "import sys\n",
        "assert sys.version_info >= (3, 5)\n",
        "\n",
        "# Scikit-Learn ≥0.20 is required\n",
        "import sklearn\n",
        "assert sklearn.__version__ >= \"0.20\"\n",
        "\n",
        "# Common imports\n",
        "import pandas as pd\n",
        "import numpy as np\n",
        "import matplotlib as mpl\n",
        "import matplotlib.pyplot as plt\n",
        "import numpy as np\n",
        "import seaborn as sns\n",
        "import os\n",
        "\n",
        "from pandas.plotting import scatter_matrix \n",
        "\n",
        "# Libraries for supervised learning\n",
        "from sklearn.model_selection import train_test_split, StratifiedShuffleSplit\n",
        "from sklearn.impute import SimpleImputer\n",
        "from sklearn.preprocessing import OrdinalEncoder, OneHotEncoder, StandardScaler, normalize\n",
        "from sklearn.base import BaseEstimator, TransformerMixin\n",
        "from sklearn.pipeline import Pipeline\n",
        "from sklearn.linear_model import LinearRegression, LogisticRegression, SGDClassifier\n",
        "from sklearn.metrics import mean_squared_error, mean_absolute_error, roc_auc_score, precision_score, recall_score, confusion_matrix, f1_score, precision_recall_curve, roc_curve, accuracy_score\n",
        "from sklearn.tree import DecisionTreeRegressor\n",
        "from sklearn.model_selection import cross_val_score, GridSearchCV, RandomizedSearchCV\n",
        "from sklearn.ensemble import RandomForestRegressor, RandomForestClassifier, VotingClassifier \n",
        "from sklearn.svm import SVR\n",
        "from sklearn.decomposition import PCA\n",
        "from scipy.stats import randint\n",
        "from sklearn.compose import ColumnTransformer\n",
        "from sklearn.svm import LinearSVC\n",
        "from sklearn.ensemble import ExtraTreesClassifier\n",
        "from sklearn.metrics import accuracy_score\n",
        "from sklearn.metrics import precision_score\n",
        "from sklearn.metrics import recall_score\n",
        "from sklearn.ensemble import BaggingClassifier\n",
        "from sklearn.calibration import CalibratedClassifierCV\n",
        "\n",
        "\n",
        "# Libraries for unsupervised learning\n",
        "from sklearn.model_selection import GridSearchCV\n",
        "from sklearn.mixture import BayesianGaussianMixture\n",
        "import pickle"
      ]
    },
    {
      "cell_type": "markdown",
      "metadata": {
        "id": "Cx5Rfgnhc3Ni"
      },
      "source": [
        "# Get the data "
      ]
    },
    {
      "cell_type": "code",
      "execution_count": null,
      "metadata": {
        "ExecuteTime": {
          "end_time": "2021-06-03T20:43:50.476637Z",
          "start_time": "2021-06-03T20:43:48.777543Z"
        },
        "id": "d1wVZHX7c3Nl",
        "scrolled": true
      },
      "outputs": [],
      "source": [
        "train_csv_path = 'https://raw.githubusercontent.com/abodaotabashi/HRAnalytics/master/aug_train.csv'\n",
        "df = pd.read_csv(train_csv_path, sep = ',', decimal = '.')"
      ]
    },
    {
      "cell_type": "code",
      "execution_count": null,
      "metadata": {
        "ExecuteTime": {
          "end_time": "2021-06-03T20:43:50.510674Z",
          "start_time": "2021-06-03T20:43:50.478691Z"
        },
        "colab": {
          "base_uri": "https://localhost:8080/",
          "height": 258
        },
        "id": "yT6gLnvyc3Nn",
        "outputId": "50510ba6-7d47-4d45-8267-757e7ca9d062",
        "scrolled": true
      },
      "outputs": [
        {
          "data": {
            "text/html": [
              "<div>\n",
              "<style scoped>\n",
              "    .dataframe tbody tr th:only-of-type {\n",
              "        vertical-align: middle;\n",
              "    }\n",
              "\n",
              "    .dataframe tbody tr th {\n",
              "        vertical-align: top;\n",
              "    }\n",
              "\n",
              "    .dataframe thead th {\n",
              "        text-align: right;\n",
              "    }\n",
              "</style>\n",
              "<table border=\"1\" class=\"dataframe\">\n",
              "  <thead>\n",
              "    <tr style=\"text-align: right;\">\n",
              "      <th></th>\n",
              "      <th>enrollee_id</th>\n",
              "      <th>city</th>\n",
              "      <th>city_development_index</th>\n",
              "      <th>gender</th>\n",
              "      <th>relevent_experience</th>\n",
              "      <th>enrolled_university</th>\n",
              "      <th>education_level</th>\n",
              "      <th>major_discipline</th>\n",
              "      <th>experience</th>\n",
              "      <th>company_size</th>\n",
              "      <th>company_type</th>\n",
              "      <th>last_new_job</th>\n",
              "      <th>training_hours</th>\n",
              "      <th>target</th>\n",
              "    </tr>\n",
              "  </thead>\n",
              "  <tbody>\n",
              "    <tr>\n",
              "      <th>0</th>\n",
              "      <td>8949</td>\n",
              "      <td>city_103</td>\n",
              "      <td>0.920</td>\n",
              "      <td>Male</td>\n",
              "      <td>Has relevent experience</td>\n",
              "      <td>no_enrollment</td>\n",
              "      <td>Graduate</td>\n",
              "      <td>STEM</td>\n",
              "      <td>&gt;20</td>\n",
              "      <td>NaN</td>\n",
              "      <td>NaN</td>\n",
              "      <td>1</td>\n",
              "      <td>36</td>\n",
              "      <td>1.0</td>\n",
              "    </tr>\n",
              "    <tr>\n",
              "      <th>1</th>\n",
              "      <td>29725</td>\n",
              "      <td>city_40</td>\n",
              "      <td>0.776</td>\n",
              "      <td>Male</td>\n",
              "      <td>No relevent experience</td>\n",
              "      <td>no_enrollment</td>\n",
              "      <td>Graduate</td>\n",
              "      <td>STEM</td>\n",
              "      <td>15</td>\n",
              "      <td>50-99</td>\n",
              "      <td>Pvt Ltd</td>\n",
              "      <td>&gt;4</td>\n",
              "      <td>47</td>\n",
              "      <td>0.0</td>\n",
              "    </tr>\n",
              "    <tr>\n",
              "      <th>2</th>\n",
              "      <td>11561</td>\n",
              "      <td>city_21</td>\n",
              "      <td>0.624</td>\n",
              "      <td>NaN</td>\n",
              "      <td>No relevent experience</td>\n",
              "      <td>Full time course</td>\n",
              "      <td>Graduate</td>\n",
              "      <td>STEM</td>\n",
              "      <td>5</td>\n",
              "      <td>NaN</td>\n",
              "      <td>NaN</td>\n",
              "      <td>never</td>\n",
              "      <td>83</td>\n",
              "      <td>0.0</td>\n",
              "    </tr>\n",
              "    <tr>\n",
              "      <th>3</th>\n",
              "      <td>33241</td>\n",
              "      <td>city_115</td>\n",
              "      <td>0.789</td>\n",
              "      <td>NaN</td>\n",
              "      <td>No relevent experience</td>\n",
              "      <td>NaN</td>\n",
              "      <td>Graduate</td>\n",
              "      <td>Business Degree</td>\n",
              "      <td>&lt;1</td>\n",
              "      <td>NaN</td>\n",
              "      <td>Pvt Ltd</td>\n",
              "      <td>never</td>\n",
              "      <td>52</td>\n",
              "      <td>1.0</td>\n",
              "    </tr>\n",
              "    <tr>\n",
              "      <th>4</th>\n",
              "      <td>666</td>\n",
              "      <td>city_162</td>\n",
              "      <td>0.767</td>\n",
              "      <td>Male</td>\n",
              "      <td>Has relevent experience</td>\n",
              "      <td>no_enrollment</td>\n",
              "      <td>Masters</td>\n",
              "      <td>STEM</td>\n",
              "      <td>&gt;20</td>\n",
              "      <td>50-99</td>\n",
              "      <td>Funded Startup</td>\n",
              "      <td>4</td>\n",
              "      <td>8</td>\n",
              "      <td>0.0</td>\n",
              "    </tr>\n",
              "  </tbody>\n",
              "</table>\n",
              "</div>"
            ],
            "text/plain": [
              "   enrollee_id      city  city_development_index gender  \\\n",
              "0         8949  city_103                   0.920   Male   \n",
              "1        29725   city_40                   0.776   Male   \n",
              "2        11561   city_21                   0.624    NaN   \n",
              "3        33241  city_115                   0.789    NaN   \n",
              "4          666  city_162                   0.767   Male   \n",
              "\n",
              "       relevent_experience enrolled_university education_level  \\\n",
              "0  Has relevent experience       no_enrollment        Graduate   \n",
              "1   No relevent experience       no_enrollment        Graduate   \n",
              "2   No relevent experience    Full time course        Graduate   \n",
              "3   No relevent experience                 NaN        Graduate   \n",
              "4  Has relevent experience       no_enrollment         Masters   \n",
              "\n",
              "  major_discipline experience company_size    company_type last_new_job  \\\n",
              "0             STEM        >20          NaN             NaN            1   \n",
              "1             STEM         15        50-99         Pvt Ltd           >4   \n",
              "2             STEM          5          NaN             NaN        never   \n",
              "3  Business Degree         <1          NaN         Pvt Ltd        never   \n",
              "4             STEM        >20        50-99  Funded Startup            4   \n",
              "\n",
              "   training_hours  target  \n",
              "0              36     1.0  \n",
              "1              47     0.0  \n",
              "2              83     0.0  \n",
              "3              52     1.0  \n",
              "4               8     0.0  "
            ]
          },
          "execution_count": 3,
          "metadata": {
            "tags": []
          },
          "output_type": "execute_result"
        }
      ],
      "source": [
        "df.head()"
      ]
    },
    {
      "cell_type": "markdown",
      "metadata": {
        "id": "Q5ItzTp_gf9J"
      },
      "source": [
        "* enrollee_id : Unique ID for candidate \n",
        "* city: City code \n",
        "* city_ development _index : Developement index of the city (scaled) \n",
        "* gender: Gender of candidate \n",
        "* relevent_experience: Relevant experience of candidate \n",
        "* enrolled_university: Type of University course enrolled if any \n",
        "* education_level: Education level of candidate \n",
        "* major_discipline :Education major discipline of candidate \n",
        "* experience: Candidate total experience in years \n",
        "* company_size: No of employees in current employer's company \n",
        "* company_type : Type of current employer \n",
        "* lastnewjob: Difference in years between previous job and current job \n",
        "* training_hours: training hours completed \n",
        "* target: 0 – Not looking for job change, 1 – Looking for a job change"
      ]
    },
    {
      "cell_type": "code",
      "execution_count": null,
      "metadata": {
        "ExecuteTime": {
          "end_time": "2021-06-03T20:43:50.536671Z",
          "start_time": "2021-06-03T20:43:50.513672Z"
        },
        "colab": {
          "base_uri": "https://localhost:8080/"
        },
        "id": "6JCTHb15c3Np",
        "outputId": "b492c737-1197-400c-875e-cd22a03aaf28",
        "scrolled": true
      },
      "outputs": [
        {
          "name": "stdout",
          "output_type": "stream",
          "text": [
            "<class 'pandas.core.frame.DataFrame'>\n",
            "RangeIndex: 19158 entries, 0 to 19157\n",
            "Data columns (total 14 columns):\n",
            " #   Column                  Non-Null Count  Dtype  \n",
            "---  ------                  --------------  -----  \n",
            " 0   enrollee_id             19158 non-null  int64  \n",
            " 1   city                    19158 non-null  object \n",
            " 2   city_development_index  19158 non-null  float64\n",
            " 3   gender                  14650 non-null  object \n",
            " 4   relevent_experience     19158 non-null  object \n",
            " 5   enrolled_university     18772 non-null  object \n",
            " 6   education_level         18698 non-null  object \n",
            " 7   major_discipline        16345 non-null  object \n",
            " 8   experience              19093 non-null  object \n",
            " 9   company_size            13220 non-null  object \n",
            " 10  company_type            13018 non-null  object \n",
            " 11  last_new_job            18735 non-null  object \n",
            " 12  training_hours          19158 non-null  int64  \n",
            " 13  target                  19158 non-null  float64\n",
            "dtypes: float64(2), int64(2), object(10)\n",
            "memory usage: 2.0+ MB\n"
          ]
        }
      ],
      "source": [
        "df.info()"
      ]
    },
    {
      "cell_type": "code",
      "execution_count": null,
      "metadata": {
        "ExecuteTime": {
          "end_time": "2021-06-03T20:43:50.574672Z",
          "start_time": "2021-06-03T20:43:50.538690Z"
        },
        "colab": {
          "base_uri": "https://localhost:8080/"
        },
        "id": "Tw0GonSWiohH",
        "outputId": "13d36b03-698c-4de2-c5a4-3f3f80f751c4",
        "scrolled": true
      },
      "outputs": [
        {
          "data": {
            "text/plain": [
              "enrollee_id               19158\n",
              "city                        123\n",
              "city_development_index       93\n",
              "gender                        3\n",
              "relevent_experience           2\n",
              "enrolled_university           3\n",
              "education_level               5\n",
              "major_discipline              6\n",
              "experience                   22\n",
              "company_size                  8\n",
              "company_type                  6\n",
              "last_new_job                  6\n",
              "training_hours              241\n",
              "target                        2\n",
              "dtype: int64"
            ]
          },
          "execution_count": 5,
          "metadata": {
            "tags": []
          },
          "output_type": "execute_result"
        }
      ],
      "source": [
        "df.nunique(dropna=True)"
      ]
    },
    {
      "cell_type": "code",
      "execution_count": null,
      "metadata": {
        "ExecuteTime": {
          "end_time": "2021-06-03T20:43:50.603670Z",
          "start_time": "2021-06-03T20:43:50.576672Z"
        },
        "colab": {
          "base_uri": "https://localhost:8080/",
          "height": 297
        },
        "id": "FaSsKLt6iqHm",
        "outputId": "2134e4eb-19aa-4fd5-bc7e-65d408014f16",
        "scrolled": false
      },
      "outputs": [
        {
          "data": {
            "text/html": [
              "<div>\n",
              "<style scoped>\n",
              "    .dataframe tbody tr th:only-of-type {\n",
              "        vertical-align: middle;\n",
              "    }\n",
              "\n",
              "    .dataframe tbody tr th {\n",
              "        vertical-align: top;\n",
              "    }\n",
              "\n",
              "    .dataframe thead th {\n",
              "        text-align: right;\n",
              "    }\n",
              "</style>\n",
              "<table border=\"1\" class=\"dataframe\">\n",
              "  <thead>\n",
              "    <tr style=\"text-align: right;\">\n",
              "      <th></th>\n",
              "      <th>enrollee_id</th>\n",
              "      <th>city_development_index</th>\n",
              "      <th>training_hours</th>\n",
              "      <th>target</th>\n",
              "    </tr>\n",
              "  </thead>\n",
              "  <tbody>\n",
              "    <tr>\n",
              "      <th>count</th>\n",
              "      <td>19158.000000</td>\n",
              "      <td>19158.000000</td>\n",
              "      <td>19158.000000</td>\n",
              "      <td>19158.000000</td>\n",
              "    </tr>\n",
              "    <tr>\n",
              "      <th>mean</th>\n",
              "      <td>16875.358179</td>\n",
              "      <td>0.828848</td>\n",
              "      <td>65.366896</td>\n",
              "      <td>0.249348</td>\n",
              "    </tr>\n",
              "    <tr>\n",
              "      <th>std</th>\n",
              "      <td>9616.292592</td>\n",
              "      <td>0.123362</td>\n",
              "      <td>60.058462</td>\n",
              "      <td>0.432647</td>\n",
              "    </tr>\n",
              "    <tr>\n",
              "      <th>min</th>\n",
              "      <td>1.000000</td>\n",
              "      <td>0.448000</td>\n",
              "      <td>1.000000</td>\n",
              "      <td>0.000000</td>\n",
              "    </tr>\n",
              "    <tr>\n",
              "      <th>25%</th>\n",
              "      <td>8554.250000</td>\n",
              "      <td>0.740000</td>\n",
              "      <td>23.000000</td>\n",
              "      <td>0.000000</td>\n",
              "    </tr>\n",
              "    <tr>\n",
              "      <th>50%</th>\n",
              "      <td>16982.500000</td>\n",
              "      <td>0.903000</td>\n",
              "      <td>47.000000</td>\n",
              "      <td>0.000000</td>\n",
              "    </tr>\n",
              "    <tr>\n",
              "      <th>75%</th>\n",
              "      <td>25169.750000</td>\n",
              "      <td>0.920000</td>\n",
              "      <td>88.000000</td>\n",
              "      <td>0.000000</td>\n",
              "    </tr>\n",
              "    <tr>\n",
              "      <th>max</th>\n",
              "      <td>33380.000000</td>\n",
              "      <td>0.949000</td>\n",
              "      <td>336.000000</td>\n",
              "      <td>1.000000</td>\n",
              "    </tr>\n",
              "  </tbody>\n",
              "</table>\n",
              "</div>"
            ],
            "text/plain": [
              "        enrollee_id  city_development_index  training_hours        target\n",
              "count  19158.000000            19158.000000    19158.000000  19158.000000\n",
              "mean   16875.358179                0.828848       65.366896      0.249348\n",
              "std     9616.292592                0.123362       60.058462      0.432647\n",
              "min        1.000000                0.448000        1.000000      0.000000\n",
              "25%     8554.250000                0.740000       23.000000      0.000000\n",
              "50%    16982.500000                0.903000       47.000000      0.000000\n",
              "75%    25169.750000                0.920000       88.000000      0.000000\n",
              "max    33380.000000                0.949000      336.000000      1.000000"
            ]
          },
          "execution_count": 6,
          "metadata": {
            "tags": []
          },
          "output_type": "execute_result"
        }
      ],
      "source": [
        "df.describe()"
      ]
    },
    {
      "cell_type": "code",
      "execution_count": null,
      "metadata": {
        "ExecuteTime": {
          "end_time": "2021-06-03T20:43:51.083749Z",
          "start_time": "2021-06-03T20:43:50.605670Z"
        },
        "id": "CXktwg2Fp-pl",
        "scrolled": true
      },
      "outputs": [],
      "source": [
        "test_csv_path = 'https://raw.githubusercontent.com/abodaotabashi/HRAnalytics/master/aug_test.csv'\n",
        "x_test = pd.read_csv(test_csv_path, sep = ',', decimal = '.').drop([\"enrollee_id\"], axis=1)\n",
        "test_target_csv_path = 'https://raw.githubusercontent.com/abodaotabashi/HRAnalytics/master/aug_test_target.csv'\n",
        "y_test = pd.read_csv(test_target_csv_path, sep = ',', decimal = '.').to_numpy()"
      ]
    },
    {
      "cell_type": "markdown",
      "metadata": {
        "id": "ntz0l0WIRzD-"
      },
      "source": [
        "## Accuracy Paradox"
      ]
    },
    {
      "cell_type": "code",
      "execution_count": null,
      "metadata": {
        "colab": {
          "base_uri": "https://localhost:8080/",
          "height": 248
        },
        "id": "nnxilIgeRv1F",
        "outputId": "1c58b45c-c183-4f3d-d3d1-15e909b8ced2"
      },
      "outputs": [
        {
          "data": {
            "image/png": "[encoded data removed]",
            "text/plain": [
              "<Figure size 432x288 with 1 Axes>"
            ]
          },
          "metadata": {
            "tags": []
          },
          "output_type": "display_data"
        }
      ],
      "source": [
        "positive_count = df[df.target == 1].shape[0]\n",
        "negative_count = df[df.target == 0].shape[0]\n",
        "\n",
        "labels = 'Label 1', 'Label 0'\n",
        "sizes = [positive_count, negative_count]\n",
        "explode = (0, 0.1) \n",
        "fig1, ax1 = plt.subplots()\n",
        "ax1.pie(sizes, explode=explode, labels=labels, autopct='%1.2f%%', shadow=True, startangle=90)\n",
        "ax1.axis('equal')  \n",
        "plt.savefig('paradox.png')\n",
        "plt.show()"
      ]
    },
    {
      "cell_type": "markdown",
      "metadata": {
        "id": "ddyiLM6kudyg"
      },
      "source": [
        "# Discover and Visualize the Data to Gain Insights"
      ]
    },
    {
      "cell_type": "code",
      "execution_count": null,
      "metadata": {
        "ExecuteTime": {
          "end_time": "2021-06-03T20:43:51.093691Z",
          "start_time": "2021-06-03T20:43:51.085688Z"
        },
        "id": "CJIpkdnFkXWH",
        "scrolled": true
      },
      "outputs": [],
      "source": [
        "corr_matrix = df.corr()"
      ]
    },
    {
      "cell_type": "code",
      "execution_count": null,
      "metadata": {
        "ExecuteTime": {
          "end_time": "2021-06-03T20:43:51.104695Z",
          "start_time": "2021-06-03T20:43:51.096692Z"
        },
        "colab": {
          "base_uri": "https://localhost:8080/"
        },
        "id": "25t3rc2Lkik4",
        "outputId": "32b3b1d8-2655-456d-d661-1db626dd6486",
        "scrolled": true
      },
      "outputs": [
        {
          "data": {
            "text/plain": [
              "target                    1.000000\n",
              "enrollee_id               0.049475\n",
              "training_hours           -0.021577\n",
              "city_development_index   -0.341665\n",
              "Name: target, dtype: float64"
            ]
          },
          "execution_count": 10,
          "metadata": {
            "tags": []
          },
          "output_type": "execute_result"
        }
      ],
      "source": [
        "corr_matrix[\"target\"].sort_values(ascending=False)"
      ]
    },
    {
      "cell_type": "markdown",
      "metadata": {
        "id": "10evc59IHbap"
      },
      "source": [
        "## Numeric Data"
      ]
    },
    {
      "cell_type": "code",
      "execution_count": null,
      "metadata": {
        "ExecuteTime": {
          "end_time": "2021-06-03T20:43:52.391464Z",
          "start_time": "2021-06-03T20:43:51.108695Z"
        },
        "colab": {
          "base_uri": "https://localhost:8080/",
          "height": 964
        },
        "id": "B0Xo4nOmsyyU",
        "outputId": "a38136f3-c0df-4347-9700-239afeb1c14a",
        "scrolled": true
      },
      "outputs": [
        {
          "data": {
            "text/plain": [
              "array([[<matplotlib.axes._subplots.AxesSubplot object at 0x0000025F6D4264F0>,\n",
              "        <matplotlib.axes._subplots.AxesSubplot object at 0x0000025F6D44E9D0>],\n",
              "       [<matplotlib.axes._subplots.AxesSubplot object at 0x0000025F6D47AE20>,\n",
              "        <matplotlib.axes._subplots.AxesSubplot object at 0x0000025F6D4B22B0>]],\n",
              "      dtype=object)"
            ]
          },
          "execution_count": 11,
          "metadata": {
            "tags": []
          },
          "output_type": "execute_result"
        },
        {
          "data": {
            "image/png": "[encoded data removed]",
            "text/plain": [
              "<Figure size 1440x1080 with 4 Axes>"
            ]
          },
          "metadata": {
            "needs_background": "light",
            "tags": []
          },
          "output_type": "display_data"
        }
      ],
      "source": [
        "df.hist(bins=50, figsize=(20,15))"
      ]
    },
    {
      "cell_type": "code",
      "execution_count": null,
      "metadata": {
        "ExecuteTime": {
          "end_time": "2021-06-03T20:43:54.815516Z",
          "start_time": "2021-06-03T20:43:52.393505Z"
        },
        "colab": {
          "base_uri": "https://localhost:8080/",
          "height": 567
        },
        "id": "NL4_axaNuwuI",
        "outputId": "71a1d04f-48f9-4a8f-d273-2d3a1f2e7333",
        "scrolled": true
      },
      "outputs": [
        {
          "data": {
            "text/plain": [
              "<seaborn.axisgrid.PairGrid at 0x25f6d341a00>"
            ]
          },
          "execution_count": 12,
          "metadata": {
            "tags": []
          },
          "output_type": "execute_result"
        },
        {
          "data": {
            "image/png": "[encoded data removed]",
            "text/plain": [
              "<Figure size 540x540 with 12 Axes>"
            ]
          },
          "metadata": {
            "needs_background": "light",
            "tags": []
          },
          "output_type": "display_data"
        }
      ],
      "source": [
        "sns.pairplot(df[[\"training_hours\", \"city_development_index\", \"target\"]])"
      ]
    },
    {
      "cell_type": "markdown",
      "metadata": {
        "id": "S_gH6mqqaOM1"
      },
      "source": [
        "### city_development_index "
      ]
    },
    {
      "cell_type": "code",
      "execution_count": null,
      "metadata": {
        "ExecuteTime": {
          "end_time": "2021-06-03T20:43:55.043495Z",
          "start_time": "2021-06-03T20:43:54.822463Z"
        },
        "colab": {
          "base_uri": "https://localhost:8080/",
          "height": 279
        },
        "id": "E_gM5Lh_aUW8",
        "outputId": "f114b242-4bb8-4128-b786-c5b80e1c10e0",
        "scrolled": true
      },
      "outputs": [
        {
          "data": {
            "image/png": "[encoded data removed]",
            "text/plain": [
              "<Figure size 432x288 with 1 Axes>"
            ]
          },
          "metadata": {
            "needs_background": "light",
            "tags": []
          },
          "output_type": "display_data"
        }
      ],
      "source": [
        "vp_city_development_index = sns.violinplot(x='target', y ='city_development_index', data=df, inner=\"quartile\")"
      ]
    },
    {
      "cell_type": "markdown",
      "metadata": {
        "id": "ow6zyxfRj9ro"
      },
      "source": [
        "### training_hours"
      ]
    },
    {
      "cell_type": "code",
      "execution_count": null,
      "metadata": {
        "ExecuteTime": {
          "end_time": "2021-06-03T20:43:55.249463Z",
          "start_time": "2021-06-03T20:43:55.045464Z"
        },
        "colab": {
          "base_uri": "https://localhost:8080/",
          "height": 279
        },
        "id": "jliFJ25KkI-I",
        "outputId": "cb2c8a79-05d5-49c7-c63f-5b4def8123ba",
        "scrolled": true
      },
      "outputs": [
        {
          "data": {
            "image/png": "[encoded data removed]",
            "text/plain": [
              "<Figure size 432x288 with 1 Axes>"
            ]
          },
          "metadata": {
            "needs_background": "light",
            "tags": []
          },
          "output_type": "display_data"
        }
      ],
      "source": [
        "vp_city_development_index = sns.violinplot(x='target', y ='training_hours', data=df, inner=\"quartile\")"
      ]
    },
    {
      "cell_type": "markdown",
      "metadata": {
        "id": "MHT88EHbHed5"
      },
      "source": [
        "## Non-Numeric Data\n"
      ]
    },
    {
      "cell_type": "markdown",
      "metadata": {
        "id": "o8JeTotlHkYN"
      },
      "source": [
        "### Gender"
      ]
    },
    {
      "cell_type": "code",
      "execution_count": null,
      "metadata": {
        "ExecuteTime": {
          "end_time": "2021-06-03T20:43:55.466464Z",
          "start_time": "2021-06-03T20:43:55.251464Z"
        },
        "colab": {
          "base_uri": "https://localhost:8080/",
          "height": 677
        },
        "id": "DR6N-FfUxZOS",
        "outputId": "5d9f7108-f70b-4ced-8895-361286168b5c",
        "scrolled": true
      },
      "outputs": [
        {
          "data": {
            "text/plain": [
              "<matplotlib.axes._subplots.AxesSubplot at 0x25f6de29040>"
            ]
          },
          "execution_count": 15,
          "metadata": {
            "tags": []
          },
          "output_type": "execute_result"
        },
        {
          "data": {
            "image/png": "[encoded data removed]",
            "text/plain": [
              "<Figure size 1800x720 with 1 Axes>"
            ]
          },
          "metadata": {
            "needs_background": "light",
            "tags": []
          },
          "output_type": "display_data"
        }
      ],
      "source": [
        "plt.figure(figsize=(25,10))\n",
        "sns.countplot(df[\"gender\"],hue=df[\"target\"])"
      ]
    },
    {
      "cell_type": "markdown",
      "metadata": {
        "id": "Q1sYf4xGHnU7"
      },
      "source": [
        "### relevent_experience"
      ]
    },
    {
      "cell_type": "code",
      "execution_count": null,
      "metadata": {
        "ExecuteTime": {
          "end_time": "2021-06-03T20:43:55.669463Z",
          "start_time": "2021-06-03T20:43:55.468500Z"
        },
        "colab": {
          "base_uri": "https://localhost:8080/",
          "height": 677
        },
        "id": "9jinANllG1lK",
        "outputId": "ff7e4f9a-e104-46b2-aa70-3f6ad5c16b53",
        "scrolled": true
      },
      "outputs": [
        {
          "data": {
            "text/plain": [
              "<matplotlib.axes._subplots.AxesSubplot at 0x25f6faca640>"
            ]
          },
          "execution_count": 16,
          "metadata": {
            "tags": []
          },
          "output_type": "execute_result"
        },
        {
          "data": {
            "image/png": "[encoded data removed]",
            "text/plain": [
              "<Figure size 1800x720 with 1 Axes>"
            ]
          },
          "metadata": {
            "needs_background": "light",
            "tags": []
          },
          "output_type": "display_data"
        }
      ],
      "source": [
        "plt.figure(figsize=(25,10))\n",
        "sns.countplot(df[\"relevent_experience\"],hue=df[\"target\"])"
      ]
    },
    {
      "cell_type": "markdown",
      "metadata": {
        "id": "KF1gyNq9HpK5"
      },
      "source": [
        "### enrolled_university"
      ]
    },
    {
      "cell_type": "code",
      "execution_count": null,
      "metadata": {
        "ExecuteTime": {
          "end_time": "2021-06-03T20:43:55.887480Z",
          "start_time": "2021-06-03T20:43:55.671464Z"
        },
        "colab": {
          "base_uri": "https://localhost:8080/",
          "height": 678
        },
        "id": "XY2HBsGGHLLf",
        "outputId": "69813ef2-c94d-4a7b-fe0c-72b79586ea52",
        "scrolled": true
      },
      "outputs": [
        {
          "data": {
            "text/plain": [
              "<matplotlib.axes._subplots.AxesSubplot at 0x25f6fb3ab50>"
            ]
          },
          "execution_count": 17,
          "metadata": {
            "tags": []
          },
          "output_type": "execute_result"
        },
        {
          "data": {
            "image/png": "[encoded data removed]",
            "text/plain": [
              "<Figure size 1800x720 with 1 Axes>"
            ]
          },
          "metadata": {
            "needs_background": "light",
            "tags": []
          },
          "output_type": "display_data"
        }
      ],
      "source": [
        "plt.figure(figsize=(25,10))\n",
        "sns.countplot(df[\"enrolled_university\"],hue=df[\"target\"])"
      ]
    },
    {
      "cell_type": "code",
      "execution_count": null,
      "metadata": {
        "ExecuteTime": {
          "end_time": "2021-06-03T20:43:56.137464Z",
          "start_time": "2021-06-03T20:43:55.889463Z"
        },
        "colab": {
          "base_uri": "https://localhost:8080/",
          "height": 677
        },
        "id": "ZrcsyHwJHQWO",
        "outputId": "3156553e-7727-48a1-b302-6ad852acb4b5",
        "scrolled": true
      },
      "outputs": [
        {
          "data": {
            "text/plain": [
              "<matplotlib.axes._subplots.AxesSubplot at 0x25f6ff33580>"
            ]
          },
          "execution_count": 18,
          "metadata": {
            "tags": []
          },
          "output_type": "execute_result"
        },
        {
          "data": {
            "image/png": "[encoded data removed]",
            "text/plain": [
              "<Figure size 1800x720 with 1 Axes>"
            ]
          },
          "metadata": {
            "needs_background": "light",
            "tags": []
          },
          "output_type": "display_data"
        }
      ],
      "source": [
        "plt.figure(figsize=(25,10))\n",
        "sns.countplot(df[\"education_level\"],hue=df[\"target\"])"
      ]
    },
    {
      "cell_type": "code",
      "execution_count": null,
      "metadata": {
        "ExecuteTime": {
          "end_time": "2021-06-03T20:43:56.376462Z",
          "start_time": "2021-06-03T20:43:56.138463Z"
        },
        "colab": {
          "base_uri": "https://localhost:8080/",
          "height": 677
        },
        "id": "nlfsWHDFHU7e",
        "outputId": "eaa4dd18-2a20-49a6-e304-24e8fde33036",
        "scrolled": true
      },
      "outputs": [
        {
          "data": {
            "text/plain": [
              "<matplotlib.axes._subplots.AxesSubplot at 0x25f6ff3c160>"
            ]
          },
          "execution_count": 19,
          "metadata": {
            "tags": []
          },
          "output_type": "execute_result"
        },
        {
          "data": {
            "image/png": "[encoded data removed]",
            "text/plain": [
              "<Figure size 1800x720 with 1 Axes>"
            ]
          },
          "metadata": {
            "needs_background": "light",
            "tags": []
          },
          "output_type": "display_data"
        }
      ],
      "source": [
        "plt.figure(figsize=(25,10))\n",
        "sns.countplot(df[\"major_discipline\"],hue=df[\"target\"])"
      ]
    },
    {
      "cell_type": "markdown",
      "metadata": {
        "id": "OMN21GUOtTvo"
      },
      "source": [
        "### education_level"
      ]
    },
    {
      "cell_type": "code",
      "execution_count": null,
      "metadata": {
        "ExecuteTime": {
          "end_time": "2021-06-03T20:43:56.628463Z",
          "start_time": "2021-06-03T20:43:56.378467Z"
        },
        "colab": {
          "base_uri": "https://localhost:8080/",
          "height": 677
        },
        "id": "cjF-ru-ftWsH",
        "outputId": "2ad1767f-0c1a-400d-aa0d-ae4c3c85cb70",
        "scrolled": true
      },
      "outputs": [
        {
          "data": {
            "text/plain": [
              "<matplotlib.axes._subplots.AxesSubplot at 0x25f700240a0>"
            ]
          },
          "execution_count": 20,
          "metadata": {
            "tags": []
          },
          "output_type": "execute_result"
        },
        {
          "data": {
            "image/png": "[encoded data removed]",
            "text/plain": [
              "<Figure size 1800x720 with 1 Axes>"
            ]
          },
          "metadata": {
            "needs_background": "light",
            "tags": []
          },
          "output_type": "display_data"
        }
      ],
      "source": [
        "plt.figure(figsize=(25,10))\n",
        "sns.countplot(df[\"education_level\"],hue=df[\"target\"])"
      ]
    },
    {
      "cell_type": "markdown",
      "metadata": {
        "id": "FLm_UP9iteVN"
      },
      "source": [
        "### major_discipline"
      ]
    },
    {
      "cell_type": "code",
      "execution_count": null,
      "metadata": {
        "ExecuteTime": {
          "end_time": "2021-06-03T20:43:56.869504Z",
          "start_time": "2021-06-03T20:43:56.630464Z"
        },
        "colab": {
          "base_uri": "https://localhost:8080/",
          "height": 677
        },
        "id": "27-Xc08ftgM1",
        "outputId": "bac384a2-1486-482d-a9a0-d44b410872f3",
        "scrolled": true
      },
      "outputs": [
        {
          "data": {
            "text/plain": [
              "<matplotlib.axes._subplots.AxesSubplot at 0x25f703e0cd0>"
            ]
          },
          "execution_count": 21,
          "metadata": {
            "tags": []
          },
          "output_type": "execute_result"
        },
        {
          "data": {
            "image/png": "[encoded data removed]",
            "text/plain": [
              "<Figure size 1800x720 with 1 Axes>"
            ]
          },
          "metadata": {
            "needs_background": "light",
            "tags": []
          },
          "output_type": "display_data"
        }
      ],
      "source": [
        "plt.figure(figsize=(25,10))\n",
        "sns.countplot(df[\"major_discipline\"],hue=df[\"target\"])"
      ]
    },
    {
      "cell_type": "markdown",
      "metadata": {
        "id": "Zr2XxetTIDvF"
      },
      "source": [
        "### experience"
      ]
    },
    {
      "cell_type": "code",
      "execution_count": null,
      "metadata": {
        "ExecuteTime": {
          "end_time": "2021-06-03T20:43:56.876500Z",
          "start_time": "2021-06-03T20:43:56.871465Z"
        },
        "id": "lMQRhQrYPTE8",
        "scrolled": true
      },
      "outputs": [],
      "source": [
        "def expToNum(my_df): \n",
        "    for i, e in enumerate(my_df[\"experience\"]): \n",
        "        e = str(e)\n",
        "        if e[0] == '>': \n",
        "            my_df[\"experience\"][i] = 21\n",
        "        elif e[0] == '<': \n",
        "            my_df[\"experience\"][i] = 0\n",
        "        else:\n",
        "            my_df[\"experience\"][i] = float(e)\n",
        "    return my_df"
      ]
    },
    {
      "cell_type": "code",
      "execution_count": null,
      "metadata": {
        "ExecuteTime": {
          "end_time": "2021-06-03T20:44:05.504159Z",
          "start_time": "2021-06-03T20:43:56.894464Z"
        },
        "colab": {
          "base_uri": "https://localhost:8080/",
          "height": 932
        },
        "id": "JkFixwH5H08O",
        "outputId": "a482f2ec-91b3-45e5-ce82-7562f0282f0d",
        "scrolled": true
      },
      "outputs": [
        {
          "name": "stderr",
          "output_type": "stream",
          "text": [
            "<ipython-input-22-f93126bc3fb1>:5: SettingWithCopyWarning: \n",
            "A value is trying to be set on a copy of a slice from a DataFrame\n",
            "\n",
            "See the caveats in the documentation: https://pandas.pydata.org/pandas-docs/stable/user_guide/indexing.html#returning-a-view-versus-a-copy\n",
            "  my_df[\"experience\"][i] = 21\n",
            "<ipython-input-22-f93126bc3fb1>:9: SettingWithCopyWarning: \n",
            "A value is trying to be set on a copy of a slice from a DataFrame\n",
            "\n",
            "See the caveats in the documentation: https://pandas.pydata.org/pandas-docs/stable/user_guide/indexing.html#returning-a-view-versus-a-copy\n",
            "  my_df[\"experience\"][i] = float(e)\n",
            "<ipython-input-22-f93126bc3fb1>:7: SettingWithCopyWarning: \n",
            "A value is trying to be set on a copy of a slice from a DataFrame\n",
            "\n",
            "See the caveats in the documentation: https://pandas.pydata.org/pandas-docs/stable/user_guide/indexing.html#returning-a-view-versus-a-copy\n",
            "  my_df[\"experience\"][i] = 0\n"
          ]
        },
        {
          "data": {
            "text/plain": [
              "<matplotlib.axes._subplots.AxesSubplot at 0x25f6fbbcd60>"
            ]
          },
          "execution_count": 23,
          "metadata": {
            "tags": []
          },
          "output_type": "execute_result"
        },
        {
          "data": {
            "image/png": "[encoded data removed]",
            "text/plain": [
              "<Figure size 1800x720 with 1 Axes>"
            ]
          },
          "metadata": {
            "needs_background": "light",
            "tags": []
          },
          "output_type": "display_data"
        }
      ],
      "source": [
        "plt.figure(figsize=(25,10))\n",
        "df2 = df.copy()\n",
        "df2 = expToNum(df2)\n",
        "sns.countplot(df2[\"experience\"],hue=df[\"target\"])"
      ]
    },
    {
      "cell_type": "markdown",
      "metadata": {
        "id": "2YImue1RY2j4"
      },
      "source": [
        "### company_size"
      ]
    },
    {
      "cell_type": "code",
      "execution_count": null,
      "metadata": {
        "ExecuteTime": {
          "end_time": "2021-06-03T20:44:05.790121Z",
          "start_time": "2021-06-03T20:44:05.510121Z"
        },
        "colab": {
          "base_uri": "https://localhost:8080/",
          "height": 677
        },
        "id": "G-wEVWWlY6JX",
        "outputId": "9929837c-db2d-47f2-b69e-24d71a8afeb1",
        "scrolled": true
      },
      "outputs": [
        {
          "data": {
            "text/plain": [
              "<matplotlib.axes._subplots.AxesSubplot at 0x25f6ff51c10>"
            ]
          },
          "execution_count": 24,
          "metadata": {
            "tags": []
          },
          "output_type": "execute_result"
        },
        {
          "data": {
            "image/png": "[encoded data removed]",
            "text/plain": [
              "<Figure size 1800x720 with 1 Axes>"
            ]
          },
          "metadata": {
            "needs_background": "light",
            "tags": []
          },
          "output_type": "display_data"
        }
      ],
      "source": [
        "plt.figure(figsize=(25,10))\n",
        "sns.countplot(df[\"company_size\"],hue=df[\"target\"])"
      ]
    },
    {
      "cell_type": "markdown",
      "metadata": {
        "id": "eLTqGWU5ZHtN"
      },
      "source": [
        "### company_type"
      ]
    },
    {
      "cell_type": "code",
      "execution_count": null,
      "metadata": {
        "ExecuteTime": {
          "end_time": "2021-06-03T20:44:06.114153Z",
          "start_time": "2021-06-03T20:44:05.794162Z"
        },
        "colab": {
          "base_uri": "https://localhost:8080/",
          "height": 677
        },
        "id": "Y_2uFncbY94X",
        "outputId": "05860911-7817-40fe-e26f-41e61e773ff6",
        "scrolled": true
      },
      "outputs": [
        {
          "data": {
            "text/plain": [
              "<matplotlib.axes._subplots.AxesSubplot at 0x25f6de3a9a0>"
            ]
          },
          "execution_count": 25,
          "metadata": {
            "tags": []
          },
          "output_type": "execute_result"
        },
        {
          "data": {
            "image/png": "[encoded data removed]",
            "text/plain": [
              "<Figure size 1800x720 with 1 Axes>"
            ]
          },
          "metadata": {
            "needs_background": "light",
            "tags": []
          },
          "output_type": "display_data"
        }
      ],
      "source": [
        "plt.figure(figsize=(25,10))\n",
        "sns.countplot(df[\"company_type\"],hue=df[\"target\"])"
      ]
    },
    {
      "cell_type": "markdown",
      "metadata": {
        "id": "GCFMiUodZaTX"
      },
      "source": [
        "### last_new_job"
      ]
    },
    {
      "cell_type": "code",
      "execution_count": null,
      "metadata": {
        "ExecuteTime": {
          "end_time": "2021-06-03T20:44:06.367153Z",
          "start_time": "2021-06-03T20:44:06.116122Z"
        },
        "colab": {
          "base_uri": "https://localhost:8080/",
          "height": 677
        },
        "id": "PrPIspERZYOn",
        "outputId": "c05e39b0-6693-4c5f-f1f5-048e9316426b",
        "scrolled": true
      },
      "outputs": [
        {
          "data": {
            "text/plain": [
              "<matplotlib.axes._subplots.AxesSubplot at 0x25f6e0710a0>"
            ]
          },
          "execution_count": 26,
          "metadata": {
            "tags": []
          },
          "output_type": "execute_result"
        },
        {
          "data": {
            "image/png": "[encoded data removed]",
            "text/plain": [
              "<Figure size 1800x720 with 1 Axes>"
            ]
          },
          "metadata": {
            "needs_background": "light",
            "tags": []
          },
          "output_type": "display_data"
        }
      ],
      "source": [
        "plt.figure(figsize=(25,10))\n",
        "sns.countplot(df[\"last_new_job\"],hue=df[\"target\"])"
      ]
    },
    {
      "cell_type": "markdown",
      "metadata": {
        "id": "UAlE_XMvkXgh"
      },
      "source": [
        "# Prepare the Data for Machine Learning Algorithms"
      ]
    },
    {
      "cell_type": "code",
      "execution_count": null,
      "metadata": {
        "ExecuteTime": {
          "end_time": "2021-06-03T20:44:06.376154Z",
          "start_time": "2021-06-03T20:44:06.368120Z"
        },
        "id": "A6nI6ZpLkmrf",
        "scrolled": true
      },
      "outputs": [],
      "source": [
        "x_train = df.drop([\"target\", \"enrollee_id\"], axis=1)\n",
        "y_train = df[\"target\"].copy()"
      ]
    },
    {
      "cell_type": "markdown",
      "metadata": {
        "id": "_k0mZzum_3M8"
      },
      "source": [
        "## Pipelines"
      ]
    },
    {
      "cell_type": "markdown",
      "metadata": {
        "id": "MQDJMS5d9IZK"
      },
      "source": [
        "### Categorical Data"
      ]
    },
    {
      "cell_type": "code",
      "execution_count": null,
      "metadata": {
        "ExecuteTime": {
          "end_time": "2021-06-03T20:44:06.983145Z",
          "start_time": "2021-06-03T20:44:06.979121Z"
        },
        "id": "edXWR1FD_bw3",
        "scrolled": true
      },
      "outputs": [],
      "source": [
        "# city\n",
        "city_encoder = OneHotEncoder()"
      ]
    },
    {
      "cell_type": "code",
      "execution_count": null,
      "metadata": {
        "ExecuteTime": {
          "end_time": "2021-06-03T20:44:07.008156Z",
          "start_time": "2021-06-03T20:44:07.004134Z"
        },
        "id": "YUl2IsS3_deL",
        "scrolled": true
      },
      "outputs": [],
      "source": [
        "# gender \n",
        "gender_encoder = Pipeline([\n",
        "    ('imputer', SimpleImputer(strategy='most_frequent')),\n",
        "    (\"cat\", OneHotEncoder())\n",
        "])"
      ]
    },
    {
      "cell_type": "code",
      "execution_count": null,
      "metadata": {
        "ExecuteTime": {
          "end_time": "2021-06-03T20:44:07.032122Z",
          "start_time": "2021-06-03T20:44:07.028120Z"
        },
        "id": "Ee1Bf84p_fUo",
        "scrolled": true
      },
      "outputs": [],
      "source": [
        "# relevent_experience\n",
        "relevent_experience_encoder = Pipeline([\n",
        "    ('cat', OrdinalEncoder(categories=[[\"No relevent experience\", \"Has relevent experience\"]])),\n",
        "    ('std_scaler', StandardScaler())      \n",
        "])"
      ]
    },
    {
      "cell_type": "code",
      "execution_count": null,
      "metadata": {
        "ExecuteTime": {
          "end_time": "2021-06-03T20:44:07.057149Z",
          "start_time": "2021-06-03T20:44:07.052157Z"
        },
        "id": "kE1SfB1D_kAn",
        "scrolled": true
      },
      "outputs": [],
      "source": [
        "# enrolled_university\n",
        "enrolled_university_encoder = Pipeline([\n",
        "    ('imputer', SimpleImputer(strategy='most_frequent')), \n",
        "    (\"cat\", OrdinalEncoder(categories=[[\"no_enrollment\", \"Part time course\", \"Full time course\"]])),\n",
        "    ('std_scaler', StandardScaler())\n",
        "])"
      ]
    },
    {
      "cell_type": "code",
      "execution_count": null,
      "metadata": {
        "ExecuteTime": {
          "end_time": "2021-06-03T20:44:07.085145Z",
          "start_time": "2021-06-03T20:44:07.079125Z"
        },
        "id": "peHARHPF_tp5",
        "scrolled": true
      },
      "outputs": [],
      "source": [
        "# education_level\n",
        "education_level_encoder = Pipeline([\n",
        "    ('imputer', SimpleImputer(strategy='most_frequent')), \n",
        "    (\"cat\", OrdinalEncoder(categories=[[\"Primary School\", \"High School\", \"Graduate\", \"Masters\", \"Phd\"]])),\n",
        "    ('std_scaler', StandardScaler())\n",
        "])"
      ]
    },
    {
      "cell_type": "code",
      "execution_count": null,
      "metadata": {
        "ExecuteTime": {
          "end_time": "2021-06-03T20:44:07.115136Z",
          "start_time": "2021-06-03T20:44:07.111122Z"
        },
        "id": "NFhFxjaNAy8O",
        "scrolled": true
      },
      "outputs": [],
      "source": [
        "# major_discipline\n",
        "major_discipline_encoder = Pipeline([\n",
        "    ('imputer', SimpleImputer(strategy='most_frequent')), \n",
        "    (\"cat\", OneHotEncoder())\n",
        "])"
      ]
    },
    {
      "cell_type": "code",
      "execution_count": null,
      "metadata": {
        "ExecuteTime": {
          "end_time": "2021-06-03T20:44:07.142121Z",
          "start_time": "2021-06-03T20:44:07.136123Z"
        },
        "id": "5yVO8Z4BEfYS",
        "scrolled": true
      },
      "outputs": [],
      "source": [
        "# experience \n",
        "experience_encoder = Pipeline([\n",
        "    ('imputer', SimpleImputer(strategy='most_frequent')), \n",
        "    (\"cat\", OrdinalEncoder(categories=[['<1', '1' ,'2' ,'3' ,'4' ,'5' ,'6' ,'7' ,'8' ,'9' ,'10','11','12','13','14','15','16','17','18','19','20','>20']])),\n",
        "    ('std_scaler', StandardScaler()) \n",
        "]) "
      ]
    },
    {
      "cell_type": "code",
      "execution_count": null,
      "metadata": {
        "ExecuteTime": {
          "end_time": "2021-06-03T20:44:07.169126Z",
          "start_time": "2021-06-03T20:44:07.164120Z"
        },
        "id": "EqdTa_ytF2Zg",
        "scrolled": true
      },
      "outputs": [],
      "source": [
        "# company_size \n",
        "company_size_encoder = Pipeline([\n",
        "    ('imputer', SimpleImputer(strategy='most_frequent')), \n",
        "    (\"cat\", OrdinalEncoder(categories=[['<10','10/49','50-99','100-500', '500-999', '1000-4999','5000-9999','10000+']])), \n",
        "    ('std_scaler', StandardScaler())\n",
        "]) "
      ]
    },
    {
      "cell_type": "code",
      "execution_count": null,
      "metadata": {
        "ExecuteTime": {
          "end_time": "2021-06-03T20:44:07.193123Z",
          "start_time": "2021-06-03T20:44:07.189148Z"
        },
        "id": "qfZP1XWPIgBY",
        "scrolled": true
      },
      "outputs": [],
      "source": [
        "# company_type \n",
        "company_type_encoder = Pipeline([\n",
        "    ('imputer', SimpleImputer(strategy='most_frequent')), \n",
        "    (\"cat\", OneHotEncoder())\n",
        "])"
      ]
    },
    {
      "cell_type": "code",
      "execution_count": null,
      "metadata": {
        "ExecuteTime": {
          "end_time": "2021-06-03T20:44:07.218125Z",
          "start_time": "2021-06-03T20:44:07.214122Z"
        },
        "id": "DtwH5XklItt9",
        "scrolled": true
      },
      "outputs": [],
      "source": [
        "# last_new_job\n",
        "last_new_job_encoder = Pipeline([\n",
        "    ('imputer', SimpleImputer(strategy='most_frequent')), \n",
        "    (\"cat\", OrdinalEncoder(categories=[['never', '1', '2', '3', '4', '>4']])),\n",
        "    ('std_scaler', StandardScaler()) \n",
        "]) "
      ]
    },
    {
      "cell_type": "markdown",
      "metadata": {
        "id": "EN4SUCOgK0KC"
      },
      "source": [
        "### Numeric data"
      ]
    },
    {
      "cell_type": "code",
      "execution_count": null,
      "metadata": {
        "ExecuteTime": {
          "end_time": "2021-06-03T20:44:07.244124Z",
          "start_time": "2021-06-03T20:44:07.240122Z"
        },
        "id": "IeBnp14TK22t",
        "scrolled": true
      },
      "outputs": [],
      "source": [
        "# city_development_index\n",
        "# pass no transformation needed "
      ]
    },
    {
      "cell_type": "code",
      "execution_count": null,
      "metadata": {
        "ExecuteTime": {
          "end_time": "2021-06-03T20:44:07.251131Z",
          "start_time": "2021-06-03T20:44:07.246124Z"
        },
        "id": "ahLUBHaMMWoG",
        "scrolled": true
      },
      "outputs": [],
      "source": [
        "# training_hours\n",
        "training_hours_encoder = StandardScaler()"
      ]
    },
    {
      "cell_type": "markdown",
      "metadata": {
        "id": "cyVFocQk_3NF"
      },
      "source": [
        "## Predictors for missing data"
      ]
    },
    {
      "cell_type": "markdown",
      "metadata": {
        "id": "AChVEVa5_3NF"
      },
      "source": [
        "### gender Prediction"
      ]
    },
    {
      "cell_type": "code",
      "execution_count": null,
      "metadata": {
        "id": "EvesdIZ7_3NG"
      },
      "outputs": [],
      "source": [
        "# the training data is the data with no gender with nan values \n",
        "x_train_gender = df[df['gender'].notnull()].drop([\"gender\", \"enrollee_id\"], axis=1)\n",
        "y_train_gender = df[df['gender'].notnull()][\"gender\"]"
      ]
    },
    {
      "cell_type": "code",
      "execution_count": null,
      "metadata": {
        "id": "Al54mxnb_3NG"
      },
      "outputs": [],
      "source": [
        "gender_pipeline = ColumnTransformer([\n",
        "    (\"relevent_experience\", relevent_experience_encoder, [\"relevent_experience\"]),\n",
        "    (\"enrolled_university\", enrolled_university_encoder, [\"enrolled_university\"]),\n",
        "    (\"education_level\", education_level_encoder, [\"education_level\"]),\n",
        "    (\"major_discipline\", major_discipline_encoder, [\"major_discipline\"]),\n",
        "    (\"experience\", experience_encoder, [\"experience\"]),\n",
        "    (\"company_size\", company_size_encoder, [\"company_size\"]),\n",
        "    (\"company_type\", company_type_encoder, [\"company_type\"]),\n",
        "    (\"last_new_job\", last_new_job_encoder, [\"last_new_job\"]),\n",
        "    (\"training_hours\", training_hours_encoder, [\"training_hours\"]), \n",
        "    (\"city\", city_encoder, [\"city\"]), \n",
        "    ('city_development_index', 'passthrough', [\"city_development_index\"]), \n",
        "    (\"target\", 'passthrough', [\"target\"])\n",
        "])"
      ]
    },
    {
      "cell_type": "code",
      "execution_count": null,
      "metadata": {
        "id": "KDaootqX_3NH"
      },
      "outputs": [],
      "source": [
        "x_train_gender_prepared = gender_pipeline.fit_transform(x_train_gender)"
      ]
    },
    {
      "cell_type": "code",
      "execution_count": null,
      "metadata": {
        "colab": {
          "base_uri": "https://localhost:8080/"
        },
        "id": "en0s5ZsS_3NH",
        "outputId": "4fcf2a0b-8bc4-42d6-acd1-480093c0b937"
      },
      "outputs": [
        {
          "data": {
            "text/plain": [
              "0.9992491467576792"
            ]
          },
          "execution_count": 43,
          "metadata": {
            "tags": []
          },
          "output_type": "execute_result"
        }
      ],
      "source": [
        "rf_clf_gender = RandomForestClassifier(random_state=42, n_jobs=8)\n",
        "rf_clf_gender.fit(x_train_gender_prepared, y_train_gender)\n",
        "\n",
        "y_train_gender_predicted = rf_clf_gender.predict(x_train_gender_prepared)\n",
        "accuracy_score(y_train_gender, y_train_gender_predicted)"
      ]
    },
    {
      "cell_type": "code",
      "execution_count": null,
      "metadata": {
        "colab": {
          "base_uri": "https://localhost:8080/"
        },
        "id": "kqSg1Q9x_3NH",
        "outputId": "4ec15773-fc3a-44a7-fbc2-1f8c1b2b14b1"
      },
      "outputs": [
        {
          "data": {
            "text/plain": [
              "array([0.89578215, 0.89555601, 0.89698956])"
            ]
          },
          "execution_count": 44,
          "metadata": {
            "tags": []
          },
          "output_type": "execute_result"
        }
      ],
      "source": [
        "cross_val_score(rf_clf_gender, x_train_gender_prepared, y_train_gender, cv=3, scoring=\"accuracy\")"
      ]
    },
    {
      "cell_type": "markdown",
      "metadata": {
        "id": "MyZg1nz4_3NI"
      },
      "source": [
        "This is quite good. It is at least better than the most_frequent imputation method. We can use this to predict the gender instead of using the most_frequent method. "
      ]
    },
    {
      "cell_type": "code",
      "execution_count": null,
      "metadata": {
        "id": "45M4N24G_3NI"
      },
      "outputs": [],
      "source": [
        "# replace the nan genders with the predicted genders in the original train data \n",
        "x_test_gender = df[df['gender'].isnull()].drop([\"enrollee_id\", \"gender\"], axis=1)\n",
        "x_test_gender = x_test_gender.replace(\"city_171\", \"city_103\")\n",
        "x_test_gender_prepared = gender_pipeline.transform(x_test_gender)\n",
        "x_test_gender_predicted = rf_clf_gender.predict(x_test_gender_prepared)\n",
        "x_train.loc[(x_train[\"gender\"].isnull()),'gender'] = x_test_gender_predicted"
      ]
    },
    {
      "cell_type": "code",
      "execution_count": null,
      "metadata": {
        "id": "pK-9p5Yq_3NI"
      },
      "outputs": [],
      "source": [
        "# replace the nan genders with the predicted genders in the original test data \n",
        "o_x_test_gender = x_test.copy()\n",
        "o_x_test_gender['target'] = y_test\n",
        "o_x_test_gender = o_x_test_gender[o_x_test_gender['gender'].isnull()].drop(['gender'], axis=1)\n",
        "o_x_test_gender_prepared = gender_pipeline.transform(o_x_test_gender)\n",
        "o_x_test_gender_predicted = rf_clf_gender.predict(o_x_test_gender_prepared)\n",
        "x_test.loc[(x_test[\"gender\"].isnull()),'gender'] = o_x_test_gender_predicted"
      ]
    },
    {
      "cell_type": "markdown",
      "metadata": {
        "id": "ogpPiyyd_3NJ"
      },
      "source": [
        "### company_size Prediction"
      ]
    },
    {
      "cell_type": "code",
      "execution_count": null,
      "metadata": {
        "id": "gfepRELa_3NJ"
      },
      "outputs": [],
      "source": [
        "x_train_company_size = df[df['company_size'].notnull()].drop([\"company_size\", \"enrollee_id\"], axis=1)\n",
        "y_train_company_size = df[df['company_size'].notnull()][\"company_size\"]"
      ]
    },
    {
      "cell_type": "code",
      "execution_count": null,
      "metadata": {
        "id": "nWfy8KCk_3NK"
      },
      "outputs": [],
      "source": [
        "company_size_pipeline = ColumnTransformer([\n",
        "    (\"gender\", gender_encoder, [\"gender\"]),\n",
        "    (\"relevent_experience\", relevent_experience_encoder, [\"relevent_experience\"]),\n",
        "    (\"enrolled_university\", enrolled_university_encoder, [\"enrolled_university\"]),\n",
        "    (\"education_level\", education_level_encoder, [\"education_level\"]),\n",
        "    (\"major_discipline\", major_discipline_encoder, [\"major_discipline\"]),\n",
        "    (\"experience\", experience_encoder, [\"experience\"]),\n",
        "    (\"company_type\", company_type_encoder, [\"company_type\"]),\n",
        "    (\"last_new_job\", last_new_job_encoder, [\"last_new_job\"]),\n",
        "    (\"training_hours\", training_hours_encoder, [\"training_hours\"]), \n",
        "    (\"city\", city_encoder, [\"city\"]), \n",
        "    ('city_development_index', 'passthrough', [\"city_development_index\"]), \n",
        "    (\"target\", 'passthrough', [\"target\"])\n",
        "])"
      ]
    },
    {
      "cell_type": "code",
      "execution_count": null,
      "metadata": {
        "id": "MZMKIGCZ_3NK"
      },
      "outputs": [],
      "source": [
        "x_train_company_size_prepared = company_size_pipeline.fit_transform(x_train_company_size)"
      ]
    },
    {
      "cell_type": "code",
      "execution_count": null,
      "metadata": {
        "colab": {
          "base_uri": "https://localhost:8080/"
        },
        "id": "edWdYvN7_3NK",
        "outputId": "21387e24-a1c2-47a0-923b-7603c2eb23ec"
      },
      "outputs": [
        {
          "data": {
            "text/plain": [
              "0.9868381240544629"
            ]
          },
          "execution_count": 50,
          "metadata": {
            "tags": []
          },
          "output_type": "execute_result"
        }
      ],
      "source": [
        "rf_clf_company_size = RandomForestClassifier(random_state=42, n_jobs=8)\n",
        "rf_clf_company_size.fit(x_train_company_size_prepared, y_train_company_size)\n",
        "\n",
        "y_train_company_size_predicted = rf_clf_company_size.predict(x_train_company_size_prepared)\n",
        "accuracy_score(y_train_company_size, y_train_company_size_predicted)"
      ]
    },
    {
      "cell_type": "code",
      "execution_count": null,
      "metadata": {
        "id": "pJj2zG20_3NL"
      },
      "outputs": [],
      "source": [
        "x_test_company_size = df[df['company_size'].isnull()].drop([\"enrollee_id\", \"company_size\"], axis=1)\n",
        "x_test_company_size = x_test_company_size.replace(['city_8', 'city_140', 'city_31'], \"city_103\")\n",
        "x_test_company_size_prepared = company_size_pipeline.transform(x_test_company_size)\n",
        "x_test_company_size_predicted = rf_clf_company_size.predict(x_test_company_size_prepared)\n",
        "x_train.loc[(x_train[\"company_size\"].isnull()),'company_size'] = x_test_company_size_predicted"
      ]
    },
    {
      "cell_type": "code",
      "execution_count": null,
      "metadata": {
        "id": "O0UMVzlw_3NM"
      },
      "outputs": [],
      "source": [
        "o_x_test_company_size = x_test.copy()\n",
        "o_x_test_company_size['target'] = y_test\n",
        "o_x_test_company_size = o_x_test_company_size[o_x_test_company_size['company_size'].isnull()].drop(['company_size'], axis=1)\n",
        "o_x_test_company_size = o_x_test_company_size.replace('city_31', \"city_103\")\n",
        "o_x_test_company_size_prepared = company_size_pipeline.transform(o_x_test_company_size)\n",
        "o_x_test_company_size_predicted = rf_clf_company_size.predict(o_x_test_company_size_prepared)\n",
        "x_test.loc[(x_test[\"company_size\"].isnull()),'company_size'] = o_x_test_company_size_predicted"
      ]
    },
    {
      "cell_type": "markdown",
      "metadata": {
        "id": "yag34-RH_3NM"
      },
      "source": [
        "### company_type Prediction"
      ]
    },
    {
      "cell_type": "code",
      "execution_count": null,
      "metadata": {
        "id": "JLLtsHCD_3NM"
      },
      "outputs": [],
      "source": [
        "x_train_company_type = df[df['company_type'].notnull()].drop([\"company_type\", \"enrollee_id\"], axis=1)\n",
        "y_train_company_type = df[df['company_type'].notnull()][\"company_type\"]"
      ]
    },
    {
      "cell_type": "code",
      "execution_count": null,
      "metadata": {
        "id": "IHCtD5Nq_3NM"
      },
      "outputs": [],
      "source": [
        "company_type_pipeline = ColumnTransformer([\n",
        "    (\"gender\", gender_encoder, [\"gender\"]),\n",
        "    (\"relevent_experience\", relevent_experience_encoder, [\"relevent_experience\"]),\n",
        "    (\"enrolled_university\", enrolled_university_encoder, [\"enrolled_university\"]),\n",
        "    (\"education_level\", education_level_encoder, [\"education_level\"]),\n",
        "    (\"major_discipline\", major_discipline_encoder, [\"major_discipline\"]),\n",
        "    (\"experience\", experience_encoder, [\"experience\"]),\n",
        "    (\"company_size\", company_size_encoder, [\"company_size\"]),\n",
        "    (\"last_new_job\", last_new_job_encoder, [\"last_new_job\"]),\n",
        "    (\"training_hours\", training_hours_encoder, [\"training_hours\"]), \n",
        "    (\"city\", city_encoder, [\"city\"]), \n",
        "    ('city_development_index', 'passthrough', [\"city_development_index\"]), \n",
        "    (\"target\", 'passthrough', [\"target\"])\n",
        "])"
      ]
    },
    {
      "cell_type": "code",
      "execution_count": null,
      "metadata": {
        "id": "d-_SGZ-K_3NN"
      },
      "outputs": [],
      "source": [
        "x_train_company_type_prepared = company_type_pipeline.fit_transform(x_train_company_type)"
      ]
    },
    {
      "cell_type": "code",
      "execution_count": null,
      "metadata": {
        "colab": {
          "base_uri": "https://localhost:8080/"
        },
        "id": "AR_vZ_Ss_3NO",
        "outputId": "3957fa0b-aa36-43b9-a138-f5cae6ff34d3"
      },
      "outputs": [
        {
          "data": {
            "text/plain": [
              "0.9980795821170687"
            ]
          },
          "execution_count": 56,
          "metadata": {
            "tags": []
          },
          "output_type": "execute_result"
        }
      ],
      "source": [
        "rf_clf_company_type = RandomForestClassifier(random_state=42, n_jobs=8)\n",
        "rf_clf_company_type.fit(x_train_company_type_prepared, y_train_company_type)\n",
        "\n",
        "y_train_company_type_predicted = rf_clf_company_type.predict(x_train_company_type_prepared)\n",
        "accuracy_score(y_train_company_type, y_train_company_type_predicted)"
      ]
    },
    {
      "cell_type": "code",
      "execution_count": null,
      "metadata": {
        "id": "Ine6tVSy_3NO"
      },
      "outputs": [],
      "source": [
        "x_test_company_type = df[df['company_type'].isnull()].drop([\"enrollee_id\", \"company_type\"], axis=1)\n",
        "x_test_company_type = x_test_company_type.replace(['city_8', 'city_31'], \"city_103\")\n",
        "x_test_company_type_prepared = company_type_pipeline.transform(x_test_company_type)\n",
        "x_test_company_type_predicted = rf_clf_company_type.predict(x_test_company_type_prepared)\n",
        "x_train.loc[(x_train[\"company_type\"].isnull()),'company_type'] = x_test_company_type_predicted"
      ]
    },
    {
      "cell_type": "code",
      "execution_count": null,
      "metadata": {
        "id": "349zoJqU_3NO"
      },
      "outputs": [],
      "source": [
        "o_x_test_company_type = x_test.copy()\n",
        "o_x_test_company_type['target'] = y_test\n",
        "o_x_test_company_type = o_x_test_company_type[o_x_test_company_type['company_type'].isnull()].drop(['company_type'], axis=1)\n",
        "o_x_test_company_type = o_x_test_company_type.replace('city_31', \"city_103\")\n",
        "o_x_test_company_type_prepared = company_type_pipeline.transform(o_x_test_company_type)\n",
        "o_x_test_company_type_predicted = rf_clf_company_type.predict(o_x_test_company_type_prepared)\n",
        "x_test.loc[(x_test[\"company_type\"].isnull()),'company_type'] = o_x_test_company_type_predicted"
      ]
    },
    {
      "cell_type": "markdown",
      "metadata": {
        "id": "3AlKGBnQ_3NP"
      },
      "source": [
        "### major_discipline Prediction"
      ]
    },
    {
      "cell_type": "code",
      "execution_count": null,
      "metadata": {
        "id": "z6fzXuA6_3NP"
      },
      "outputs": [],
      "source": [
        "x_train_major_discipline = df[df['major_discipline'].notnull()].drop([\"major_discipline\", \"enrollee_id\"], axis=1)\n",
        "y_train_major_discipline = df[df['major_discipline'].notnull()][\"major_discipline\"]"
      ]
    },
    {
      "cell_type": "code",
      "execution_count": null,
      "metadata": {
        "id": "UErusTU__3NP"
      },
      "outputs": [],
      "source": [
        "major_discipline_pipeline = ColumnTransformer([\n",
        "    (\"gender\", gender_encoder, [\"gender\"]),\n",
        "    (\"relevent_experience\", relevent_experience_encoder, [\"relevent_experience\"]),\n",
        "    (\"enrolled_university\", enrolled_university_encoder, [\"enrolled_university\"]),\n",
        "    (\"education_level\", education_level_encoder, [\"education_level\"]),\n",
        "    (\"experience\", experience_encoder, [\"experience\"]),\n",
        "    (\"company_size\", company_size_encoder, [\"company_size\"]),\n",
        "    (\"company_type\", company_type_encoder, [\"company_type\"]),\n",
        "    (\"last_new_job\", last_new_job_encoder, [\"last_new_job\"]),\n",
        "    (\"training_hours\", training_hours_encoder, [\"training_hours\"]), \n",
        "    (\"city\", city_encoder, [\"city\"]), \n",
        "    ('city_development_index', 'passthrough', [\"city_development_index\"]), \n",
        "    (\"target\", 'passthrough', [\"target\"])\n",
        "])"
      ]
    },
    {
      "cell_type": "code",
      "execution_count": null,
      "metadata": {
        "id": "QKC2dFjs_3NP"
      },
      "outputs": [],
      "source": [
        "x_train_major_discipline_prepared = major_discipline_pipeline.fit_transform(x_train_major_discipline)"
      ]
    },
    {
      "cell_type": "code",
      "execution_count": null,
      "metadata": {
        "colab": {
          "base_uri": "https://localhost:8080/"
        },
        "id": "vuJUwPaR_3NQ",
        "outputId": "5da496c5-3a9b-4f60-a7b9-f62333354552"
      },
      "outputs": [
        {
          "data": {
            "text/plain": [
              "0.9984704802691955"
            ]
          },
          "execution_count": 62,
          "metadata": {
            "tags": []
          },
          "output_type": "execute_result"
        }
      ],
      "source": [
        "rf_clf_major_discipline = RandomForestClassifier(random_state=42, n_jobs=8)\n",
        "rf_clf_major_discipline.fit(x_train_major_discipline_prepared, y_train_major_discipline)\n",
        "\n",
        "y_train_major_discipline_predicted = rf_clf_major_discipline.predict(x_train_major_discipline_prepared)\n",
        "accuracy_score(y_train_major_discipline, y_train_major_discipline_predicted)"
      ]
    },
    {
      "cell_type": "code",
      "execution_count": null,
      "metadata": {
        "colab": {
          "base_uri": "https://localhost:8080/"
        },
        "id": "3fYL_x5I_3NR",
        "outputId": "e57b1c4c-9e53-4dd2-8103-f92f7b100377"
      },
      "outputs": [
        {
          "data": {
            "text/plain": [
              "array([0.87906038, 0.87903818, 0.88105727])"
            ]
          },
          "execution_count": 63,
          "metadata": {
            "tags": []
          },
          "output_type": "execute_result"
        }
      ],
      "source": [
        "cross_val_score(rf_clf_major_discipline, x_train_major_discipline_prepared, y_train_major_discipline, cv=3, scoring=\"accuracy\")"
      ]
    },
    {
      "cell_type": "code",
      "execution_count": null,
      "metadata": {
        "id": "hO5WC_W6_3NR"
      },
      "outputs": [],
      "source": [
        "x_test_major_discipline = df[df['major_discipline'].isnull()].drop([\"enrollee_id\", \"major_discipline\"], axis=1)\n",
        "x_test_major_discipline = x_test_major_discipline.replace(['city_140'], \"city_103\")\n",
        "x_test_major_discipline_prepared = major_discipline_pipeline.transform(x_test_major_discipline)\n",
        "x_test_major_discipline_predicted = rf_clf_major_discipline.predict(x_test_major_discipline_prepared)\n",
        "x_train.loc[(x_train[\"major_discipline\"].isnull()),'major_discipline'] = x_test_major_discipline_predicted"
      ]
    },
    {
      "cell_type": "code",
      "execution_count": null,
      "metadata": {
        "id": "B-NK8Vqj_3NS"
      },
      "outputs": [],
      "source": [
        "o_x_test_major_discipline = x_test.copy()\n",
        "o_x_test_major_discipline['target'] = y_test\n",
        "o_x_test_major_discipline = o_x_test_major_discipline[o_x_test_major_discipline['major_discipline'].isnull()].drop(['major_discipline'], axis=1)\n",
        "o_x_test_major_discipline_prepared = major_discipline_pipeline.transform(o_x_test_major_discipline)\n",
        "o_x_test_major_discipline_predicted = rf_clf_major_discipline.predict(o_x_test_major_discipline_prepared)\n",
        "x_test.loc[(x_test[\"major_discipline\"].isnull()),'major_discipline'] = o_x_test_major_discipline_predicted"
      ]
    },
    {
      "cell_type": "markdown",
      "metadata": {
        "id": "N5WVgdJKPW_T"
      },
      "source": [
        "## Final Pipeline"
      ]
    },
    {
      "cell_type": "code",
      "execution_count": null,
      "metadata": {
        "colab": {
          "base_uri": "https://localhost:8080/"
        },
        "id": "Vd2tbWcZ_3NS",
        "outputId": "6b7a4291-878f-4057-83a7-bfda70951bfb"
      },
      "outputs": [
        {
          "name": "stdout",
          "output_type": "stream",
          "text": [
            "<class 'pandas.core.frame.DataFrame'>\n",
            "RangeIndex: 19158 entries, 0 to 19157\n",
            "Data columns (total 12 columns):\n",
            " #   Column                  Non-Null Count  Dtype  \n",
            "---  ------                  --------------  -----  \n",
            " 0   city                    19158 non-null  object \n",
            " 1   city_development_index  19158 non-null  float64\n",
            " 2   gender                  19158 non-null  object \n",
            " 3   relevent_experience     19158 non-null  object \n",
            " 4   enrolled_university     18772 non-null  object \n",
            " 5   education_level         18698 non-null  object \n",
            " 6   major_discipline        19158 non-null  object \n",
            " 7   experience              19093 non-null  object \n",
            " 8   company_size            19158 non-null  object \n",
            " 9   company_type            19158 non-null  object \n",
            " 10  last_new_job            18735 non-null  object \n",
            " 11  training_hours          19158 non-null  int64  \n",
            "dtypes: float64(1), int64(1), object(10)\n",
            "memory usage: 1.8+ MB\n"
          ]
        }
      ],
      "source": [
        "x_train.info()"
      ]
    },
    {
      "cell_type": "markdown",
      "metadata": {
        "id": "irjDBLxr_3NT"
      },
      "source": [
        "We have to change the old pipelines for gender, company_size and company_type because there is no need for the imputer anymore"
      ]
    },
    {
      "cell_type": "code",
      "execution_count": null,
      "metadata": {
        "id": "B7FpJsSF_3NT"
      },
      "outputs": [],
      "source": [
        "# new gender encoder \n",
        "gender_encoder_new = OneHotEncoder()"
      ]
    },
    {
      "cell_type": "code",
      "execution_count": null,
      "metadata": {
        "id": "2j3rmQAJ_3NU"
      },
      "outputs": [],
      "source": [
        "# new company_size encoder \n",
        "company_size_encoder_new = Pipeline([\n",
        "    (\"cat\", OrdinalEncoder(categories=[['<10','10/49','50-99','100-500', '500-999', '1000-4999','5000-9999','10000+']])), \n",
        "    ('std_scaler', StandardScaler())\n",
        "]) "
      ]
    },
    {
      "cell_type": "code",
      "execution_count": null,
      "metadata": {
        "id": "i2jCciNF_3NU"
      },
      "outputs": [],
      "source": [
        "# new company_type encoder \n",
        "company_type_encoder_new = OneHotEncoder()"
      ]
    },
    {
      "cell_type": "code",
      "execution_count": null,
      "metadata": {
        "id": "OGXPq6-N_3NU"
      },
      "outputs": [],
      "source": [
        "# new major_discipline encoder \n",
        "major_discipline_encoder_new = OneHotEncoder() "
      ]
    },
    {
      "cell_type": "code",
      "execution_count": null,
      "metadata": {
        "ExecuteTime": {
          "end_time": "2021-06-03T20:44:07.436147Z",
          "start_time": "2021-06-03T20:44:07.277124Z"
        },
        "id": "SWTB4g1vPWkE",
        "scrolled": true
      },
      "outputs": [],
      "source": [
        "full_pipeline = ColumnTransformer([\n",
        "    (\"gender\", gender_encoder_new, [\"gender\"]),\n",
        "    (\"relevent_experience\", relevent_experience_encoder, [\"relevent_experience\"]),\n",
        "    (\"enrolled_university\", enrolled_university_encoder, [\"enrolled_university\"]),\n",
        "    (\"education_level\", education_level_encoder, [\"education_level\"]),\n",
        "    (\"major_discipline\", major_discipline_encoder_new, [\"major_discipline\"]),\n",
        "    (\"experience\", experience_encoder, [\"experience\"]),\n",
        "    (\"company_size\", company_size_encoder_new, [\"company_size\"]),\n",
        "    (\"company_type\", company_type_encoder_new, [\"company_type\"]),\n",
        "    (\"last_new_job\", last_new_job_encoder, [\"last_new_job\"]),\n",
        "    (\"training_hours\", training_hours_encoder, [\"training_hours\"]), \n",
        "    ('city_development_index', 'passthrough', [\"city_development_index\"]), \n",
        "    (\"city\", city_encoder, [\"city\"]),\n",
        "])"
      ]
    },
    {
      "cell_type": "code",
      "execution_count": null,
      "metadata": {
        "id": "9W5vamlT_3NV"
      },
      "outputs": [],
      "source": [
        "x_train_prepared = full_pipeline.fit_transform(x_train)"
      ]
    },
    {
      "cell_type": "code",
      "execution_count": null,
      "metadata": {
        "ExecuteTime": {
          "end_time": "2021-06-03T20:44:07.494155Z",
          "start_time": "2021-06-03T20:44:07.448124Z"
        },
        "id": "ElzhpfAdq0Mr",
        "scrolled": true
      },
      "outputs": [],
      "source": [
        "x_test_prepared = full_pipeline.transform(x_test)"
      ]
    },
    {
      "cell_type": "code",
      "execution_count": null,
      "metadata": {
        "ExecuteTime": {
          "end_time": "2021-06-03T21:14:13.210797Z",
          "start_time": "2021-06-03T21:14:13.204803Z"
        },
        "id": "HOvqwb_b_3NW"
      },
      "outputs": [],
      "source": [
        "gender_names = full_pipeline.transformers_[0][1].get_feature_names()\n",
        "relevent_experience_names = np.array([\"relevent_experience\"])\n",
        "enrolled_university_names = [\"enrolled_university\"]\n",
        "education_level_names = [\"education_level\"]\n",
        "major_discipline_names = full_pipeline.transformers_[4][1].get_feature_names()\n",
        "experience_names = [\"experience\"]\n",
        "company_size_names = [\"company_size\"]\n",
        "company_type_names = full_pipeline.transformers_[7][1].get_feature_names()\n",
        "last_new_job_names = [\"last_new_job\"]\n",
        "training_hours_names = [\"training_hours\"]\n",
        "city_development_index_names = [\"city_development_index\"]\n",
        "city_names = full_pipeline.transformers_[11][1].get_feature_names()"
      ]
    },
    {
      "cell_type": "code",
      "execution_count": null,
      "metadata": {
        "colab": {
          "base_uri": "https://localhost:8080/"
        },
        "id": "42tLw9lP_3NW",
        "outputId": "5d998853-b310-49fa-8099-5be5d2eb92e2"
      },
      "outputs": [
        {
          "data": {
            "text/plain": [
              "array(['x0_Female', 'x0_Male', 'x0_Other', 'relevent_experience',\n",
              "       'enrolled_university', 'education_level', 'x0_Arts',\n",
              "       'x0_Business Degree', 'x0_Humanities', 'x0_No Major', 'x0_Other',\n",
              "       'x0_STEM', 'experience', 'company_size', 'x0_Early Stage Startup',\n",
              "       'x0_Funded Startup', 'x0_NGO', 'x0_Other', 'x0_Public Sector',\n",
              "       'x0_Pvt Ltd', 'last_new_job', 'training_hours',\n",
              "       'city_development_index', 'x0_city_1', 'x0_city_10', 'x0_city_100',\n",
              "       'x0_city_101', 'x0_city_102', 'x0_city_103', 'x0_city_104',\n",
              "       'x0_city_105', 'x0_city_106', 'x0_city_107', 'x0_city_109',\n",
              "       'x0_city_11', 'x0_city_111', 'x0_city_114', 'x0_city_115',\n",
              "       'x0_city_116', 'x0_city_117', 'x0_city_118', 'x0_city_12',\n",
              "       'x0_city_120', 'x0_city_121', 'x0_city_123', 'x0_city_126',\n",
              "       'x0_city_127', 'x0_city_128', 'x0_city_129', 'x0_city_13',\n",
              "       'x0_city_131', 'x0_city_133', 'x0_city_134', 'x0_city_136',\n",
              "       'x0_city_138', 'x0_city_139', 'x0_city_14', 'x0_city_140',\n",
              "       'x0_city_141', 'x0_city_142', 'x0_city_143', 'x0_city_144',\n",
              "       'x0_city_145', 'x0_city_146', 'x0_city_149', 'x0_city_150',\n",
              "       'x0_city_152', 'x0_city_155', 'x0_city_157', 'x0_city_158',\n",
              "       'x0_city_159', 'x0_city_16', 'x0_city_160', 'x0_city_162',\n",
              "       'x0_city_165', 'x0_city_166', 'x0_city_167', 'x0_city_171',\n",
              "       'x0_city_173', 'x0_city_175', 'x0_city_176', 'x0_city_179',\n",
              "       'x0_city_18', 'x0_city_180', 'x0_city_19', 'x0_city_2',\n",
              "       'x0_city_20', 'x0_city_21', 'x0_city_23', 'x0_city_24',\n",
              "       'x0_city_25', 'x0_city_26', 'x0_city_27', 'x0_city_28',\n",
              "       'x0_city_30', 'x0_city_31', 'x0_city_33', 'x0_city_36',\n",
              "       'x0_city_37', 'x0_city_39', 'x0_city_40', 'x0_city_41',\n",
              "       'x0_city_42', 'x0_city_43', 'x0_city_44', 'x0_city_45',\n",
              "       'x0_city_46', 'x0_city_48', 'x0_city_50', 'x0_city_53',\n",
              "       'x0_city_54', 'x0_city_55', 'x0_city_57', 'x0_city_59',\n",
              "       'x0_city_61', 'x0_city_62', 'x0_city_64', 'x0_city_65',\n",
              "       'x0_city_67', 'x0_city_69', 'x0_city_7', 'x0_city_70',\n",
              "       'x0_city_71', 'x0_city_72', 'x0_city_73', 'x0_city_74',\n",
              "       'x0_city_75', 'x0_city_76', 'x0_city_77', 'x0_city_78',\n",
              "       'x0_city_79', 'x0_city_8', 'x0_city_80', 'x0_city_81',\n",
              "       'x0_city_82', 'x0_city_83', 'x0_city_84', 'x0_city_89',\n",
              "       'x0_city_9', 'x0_city_90', 'x0_city_91', 'x0_city_93',\n",
              "       'x0_city_94', 'x0_city_97', 'x0_city_98', 'x0_city_99'],\n",
              "      dtype=object)"
            ]
          },
          "execution_count": 75,
          "metadata": {
            "tags": []
          },
          "output_type": "execute_result"
        }
      ],
      "source": [
        "column_names = np.concatenate((\n",
        "    gender_names, \n",
        "    relevent_experience_names, \n",
        "    enrolled_university_names, \n",
        "    education_level_names,\n",
        "    major_discipline_names,\n",
        "    experience_names,\n",
        "    company_size_names,\n",
        "    company_type_names,\n",
        "    last_new_job_names,\n",
        "    training_hours_names,\n",
        "    city_development_index_names,\n",
        "    city_names,\n",
        "), axis=0)\n",
        "column_names"
      ]
    },
    {
      "cell_type": "markdown",
      "metadata": {
        "id": "ipVkjL0h_3NX"
      },
      "source": [
        "#### Dimensionality Reduction with PCA"
      ]
    },
    {
      "cell_type": "code",
      "execution_count": null,
      "metadata": {
        "id": "WWV96KZQ_3NX"
      },
      "outputs": [],
      "source": [
        "# reduce the dimentionality before using BayesianGaussianMixture to reduce the needed time \n",
        "pca = PCA(n_components=0.99)\n",
        "x_train_prepared_pca = pca.fit_transform(x_train_prepared.toarray())\n",
        "x_test_prepared_pca = pca.transform(x_test_prepared.toarray())"
      ]
    },
    {
      "cell_type": "code",
      "execution_count": null,
      "metadata": {
        "colab": {
          "base_uri": "https://localhost:8080/"
        },
        "id": "IiCesgtT_3NX",
        "outputId": "4e09bb92-36b5-469e-fb0d-bba224d2c3d2"
      },
      "outputs": [
        {
          "data": {
            "text/plain": [
              "(19158, 64)"
            ]
          },
          "execution_count": 77,
          "metadata": {
            "tags": []
          },
          "output_type": "execute_result"
        }
      ],
      "source": [
        "x_train_prepared_pca.shape"
      ]
    },
    {
      "cell_type": "markdown",
      "metadata": {
        "id": "x9AOlnDRnb8c"
      },
      "source": [
        "# Select and Train a Model"
      ]
    },
    {
      "cell_type": "markdown",
      "metadata": {
        "id": "IXIkSWuN_3Na"
      },
      "source": [
        "* All the hyperparameters of the models have been selected using grid search.\n",
        "* To save time we decided just to present the models with the best hyperparameters. \n",
        "* Because the data is unbalanced we decided use Area under the Curve as a metric to compare and select models."
      ]
    },
    {
      "cell_type": "markdown",
      "metadata": {
        "id": "V3JYnEzCnuPO"
      },
      "source": [
        "## SGD Classifier without PCA "
      ]
    },
    {
      "cell_type": "code",
      "execution_count": null,
      "metadata": {
        "ExecuteTime": {
          "end_time": "2021-06-03T20:44:07.631123Z",
          "start_time": "2021-06-03T20:44:07.502124Z"
        },
        "colab": {
          "base_uri": "https://localhost:8080/"
        },
        "id": "LeRpzMnWQ114",
        "outputId": "360d2307-d4c5-4203-a592-64828e8d16cc",
        "scrolled": true
      },
      "outputs": [
        {
          "data": {
            "text/plain": [
              "SGDClassifier(alpha=0.001, loss='log', random_state=42)"
            ]
          },
          "execution_count": 78,
          "metadata": {
            "tags": []
          },
          "output_type": "execute_result"
        }
      ],
      "source": [
        "sgd_clf = SGDClassifier(random_state=42, loss='log', alpha=0.001)\n",
        "sgd_clf.fit(x_train_prepared, y_train)"
      ]
    },
    {
      "cell_type": "code",
      "execution_count": null,
      "metadata": {
        "ExecuteTime": {
          "end_time": "2021-06-03T20:44:07.866122Z",
          "start_time": "2021-06-03T20:44:07.632121Z"
        },
        "colab": {
          "base_uri": "https://localhost:8080/"
        },
        "id": "B5zLjn5Bo8P4",
        "outputId": "1f62bb0a-7f02-4f98-890b-be55ee95f0cc",
        "scrolled": true
      },
      "outputs": [
        {
          "data": {
            "text/plain": [
              "0.7539390036357936"
            ]
          },
          "execution_count": 79,
          "metadata": {
            "tags": []
          },
          "output_type": "execute_result"
        }
      ],
      "source": [
        "sgd_clf_auc = cross_val_score(sgd_clf, x_train_prepared, y_train, cv=5, scoring=\"roc_auc\").mean()\n",
        "sgd_clf_auc"
      ]
    },
    {
      "cell_type": "code",
      "execution_count": null,
      "metadata": {
        "id": "ytDJ6vsi_3Nb"
      },
      "outputs": [],
      "source": [
        "sgd_clf_accuracy = cross_val_score(sgd_clf, x_train_prepared, y_train, cv=5, scoring=\"accuracy\").mean()\n",
        "sgd_clf_accuracy"
      ]
    },
    {
      "cell_type": "code",
      "execution_count": null,
      "metadata": {
        "id": "EssbZfy2G2OY"
      },
      "outputs": [],
      "source": [
        "pickle.dump(sgd_clf, open(\"sgd_clf.sav\", 'wb'))"
      ]
    },
    {
      "cell_type": "code",
      "execution_count": null,
      "metadata": {
        "id": "xMOphaSqG2OY"
      },
      "outputs": [],
      "source": [
        "sgd_clf = pickle.load(open(\"sgd_clf.sav\", 'rb'))"
      ]
    },
    {
      "cell_type": "markdown",
      "metadata": {
        "id": "keSY1S6vrs1W"
      },
      "source": [
        "## Random Forest Classifier with PCA "
      ]
    },
    {
      "cell_type": "code",
      "execution_count": null,
      "metadata": {
        "ExecuteTime": {
          "end_time": "2021-06-03T20:44:25.381433Z",
          "start_time": "2021-06-03T20:44:07.878122Z"
        },
        "colab": {
          "base_uri": "https://localhost:8080/"
        },
        "id": "pF1UsV7Nr0NX",
        "outputId": "b793f67b-a389-483f-d9ce-56c0ff30d0f1",
        "scrolled": true
      },
      "outputs": [
        {
          "data": {
            "text/plain": [
              "RandomForestClassifier(class_weight='balanced', criterion='entropy',\n",
              "                       max_features='log2', n_estimators=2000, n_jobs=-1,\n",
              "                       random_state=42)"
            ]
          },
          "execution_count": 77,
          "metadata": {
            "tags": []
          },
          "output_type": "execute_result"
        }
      ],
      "source": [
        "rf_clf = RandomForestClassifier(random_state=42, n_jobs=-1, class_weight=\"balanced\", n_estimators=2000, max_features='log2', criterion='entropy')\n",
        "rf_clf.fit(x_train_prepared_pca, y_train)"
      ]
    },
    {
      "cell_type": "code",
      "execution_count": null,
      "metadata": {
        "ExecuteTime": {
          "end_time": "2021-06-03T20:44:56.929402Z",
          "start_time": "2021-06-03T20:44:25.383417Z"
        },
        "colab": {
          "base_uri": "https://localhost:8080/"
        },
        "id": "A3bzRqEBsJUv",
        "outputId": "968983cb-d2ba-4586-ac03-6982bbf4af60",
        "scrolled": true
      },
      "outputs": [
        {
          "data": {
            "text/plain": [
              "0.7816273585798044"
            ]
          },
          "execution_count": 82,
          "metadata": {
            "tags": []
          },
          "output_type": "execute_result"
        }
      ],
      "source": [
        "rf_clf_auc = cross_val_score(rf_clf, x_train_prepared_pca, y_train, cv=3, scoring=\"roc_auc\", n_jobs=4).mean()\n",
        "rf_clf_auc"
      ]
    },
    {
      "cell_type": "code",
      "execution_count": null,
      "metadata": {
        "colab": {
          "base_uri": "https://localhost:8080/"
        },
        "id": "XwH2WrbB_3Nd",
        "outputId": "cd5223b8-d773-4b41-d81f-dd76b4295438"
      },
      "outputs": [
        {
          "data": {
            "text/plain": [
              "0.78734732226746"
            ]
          },
          "execution_count": 83,
          "metadata": {
            "tags": []
          },
          "output_type": "execute_result"
        }
      ],
      "source": [
        "rf_clf_accuracy = cross_val_score(rf_clf, x_train_prepared_pca, y_train, cv=3, scoring=\"accuracy\", n_jobs=4).mean()\n",
        "rf_clf_accuracy"
      ]
    },
    {
      "cell_type": "code",
      "execution_count": null,
      "metadata": {
        "id": "-OrNpho9eG9q"
      },
      "outputs": [],
      "source": [
        "pickle.dump(rf_clf, open(\"rf_clf.sav\", 'wb'))"
      ]
    },
    {
      "cell_type": "code",
      "execution_count": null,
      "metadata": {
        "id": "cyzh0ln1eQg2"
      },
      "outputs": [],
      "source": [
        "rf_clf = pickle.load(open(\"rf_clf.sav\", 'rb'))"
      ]
    },
    {
      "cell_type": "markdown",
      "metadata": {
        "id": "OQlBs3Ii_3Nd"
      },
      "source": [
        "### Feature Importance"
      ]
    },
    {
      "cell_type": "code",
      "execution_count": null,
      "metadata": {
        "ExecuteTime": {
          "end_time": "2021-06-03T21:30:46.921230Z",
          "start_time": "2021-06-03T21:30:46.916227Z"
        },
        "colab": {
          "base_uri": "https://localhost:8080/"
        },
        "id": "LzxRIeIB_3Nd",
        "outputId": "250c42e0-7268-4fcb-df1f-65ec5b0a77d6"
      },
      "outputs": [
        {
          "name": "stdout",
          "output_type": "stream",
          "text": [
            "x0_Female = 0.025409050422354865\n",
            "x0_Male = 0.017754454620786418\n",
            "x0_Other = 0.016168892168446095\n",
            "relevent_experience = 0.01613559970131346\n",
            "enrolled_university = 0.0160496977240434\n",
            "education_level = 0.015336865591690774\n",
            "x0_Arts = 0.015239248249806709\n",
            "x0_Business Degree = 0.01899526484744722\n",
            "x0_Humanities = 0.015551487742673772\n",
            "x0_No Major = 0.015785424616721954\n",
            "x0_Other = 0.037632859973796985\n",
            "x0_STEM = 0.023916404018664975\n",
            "experience = 0.021292843677756926\n",
            "company_size = 0.021088158696743898\n",
            "x0_Early Stage Startup = 0.01732998396535782\n",
            "x0_Funded Startup = 0.015699262725170422\n",
            "x0_NGO = 0.015337680802459626\n",
            "x0_Other = 0.014793436657823452\n",
            "x0_Public Sector = 0.014764898002520762\n",
            "x0_Pvt Ltd = 0.014717340094327397\n",
            "last_new_job = 0.014575869999350117\n",
            "training_hours = 0.024610872665377984\n",
            "city_development_index = 0.014342416902616787\n",
            "x0_city_1 = 0.014732270150061424\n",
            "x0_city_10 = 0.015165390760328495\n",
            "x0_city_100 = 0.015604621215860183\n",
            "x0_city_101 = 0.01409646787787501\n",
            "x0_city_102 = 0.014770055416347192\n",
            "x0_city_103 = 0.014622443347368747\n",
            "x0_city_104 = 0.014011672370679353\n",
            "x0_city_105 = 0.014178386949841923\n",
            "x0_city_106 = 0.01526443118538399\n",
            "x0_city_107 = 0.014034097099065303\n",
            "x0_city_109 = 0.015285753242854779\n",
            "x0_city_11 = 0.013946541086101097\n",
            "x0_city_111 = 0.012803153861449909\n",
            "x0_city_114 = 0.013934020593075287\n",
            "x0_city_115 = 0.0136068677430962\n",
            "x0_city_116 = 0.012876384661513519\n",
            "x0_city_117 = 0.014191405795156679\n",
            "x0_city_118 = 0.014349351193194002\n",
            "x0_city_12 = 0.012896437441836139\n",
            "x0_city_120 = 0.01371552166200023\n",
            "x0_city_121 = 0.014779829965870251\n",
            "x0_city_123 = 0.01365179159684014\n",
            "x0_city_126 = 0.013364794987253376\n",
            "x0_city_127 = 0.015205470424263673\n",
            "x0_city_128 = 0.014216567206110083\n",
            "x0_city_129 = 0.01404622334281008\n",
            "x0_city_13 = 0.014118249697758746\n",
            "x0_city_131 = 0.012753899699666539\n",
            "x0_city_133 = 0.013719171532181872\n",
            "x0_city_134 = 0.013032881782670308\n",
            "x0_city_136 = 0.013345117937798563\n",
            "x0_city_138 = 0.013820249280654666\n",
            "x0_city_139 = 0.01404388395765825\n",
            "x0_city_14 = 0.014481568233243033\n",
            "x0_city_140 = 0.01346665201496784\n",
            "x0_city_141 = 0.013519749455567588\n",
            "x0_city_142 = 0.013906595852839472\n",
            "x0_city_143 = 0.01446712711358552\n",
            "x0_city_144 = 0.014071338949610343\n",
            "x0_city_145 = 0.014062548070821438\n",
            "x0_city_146 = 0.015313001377486951\n"
          ]
        }
      ],
      "source": [
        "# list of all the features and their importances \n",
        "for name, importance in zip(column_names, rf_clf.feature_importances_):\n",
        "    print(name, \"=\", importance)"
      ]
    },
    {
      "cell_type": "markdown",
      "metadata": {
        "id": "l48EJftUsn-7"
      },
      "source": [
        "## Linear SVC with PCA "
      ]
    },
    {
      "cell_type": "code",
      "execution_count": null,
      "metadata": {
        "ExecuteTime": {
          "end_time": "2021-06-03T20:44:59.648404Z",
          "start_time": "2021-06-03T20:44:57.037405Z"
        },
        "colab": {
          "base_uri": "https://localhost:8080/"
        },
        "id": "mt-MotJ6sX62",
        "outputId": "f7422418-43ee-42eb-d0f6-d59be13f6dab",
        "scrolled": true
      },
      "outputs": [
        {
          "data": {
            "text/plain": [
              "LinearSVC(C=0.1)"
            ]
          },
          "execution_count": 87,
          "metadata": {
            "tags": []
          },
          "output_type": "execute_result"
        }
      ],
      "source": [
        "lsvc_pca = LinearSVC(C=0.1)\n",
        "lsvc_pca.fit(x_train_prepared_pca, y_train)"
      ]
    },
    {
      "cell_type": "code",
      "execution_count": null,
      "metadata": {
        "ExecuteTime": {
          "end_time": "2021-06-03T20:45:04.353405Z",
          "start_time": "2021-06-03T20:44:59.651408Z"
        },
        "colab": {
          "base_uri": "https://localhost:8080/"
        },
        "id": "9ZY0OtlXslH-",
        "outputId": "5c14e111-47c2-4683-a879-15456476d43d",
        "scrolled": true
      },
      "outputs": [
        {
          "data": {
            "text/plain": [
              "0.7556301744296625"
            ]
          },
          "execution_count": 88,
          "metadata": {
            "tags": []
          },
          "output_type": "execute_result"
        }
      ],
      "source": [
        "lsvc_pca_auc = cross_val_score(lsvc_pca, x_train_prepared_pca, y_train, cv=5, scoring=\"roc_auc\", n_jobs=4).mean()\n",
        "lsvc_pca_auc"
      ]
    },
    {
      "cell_type": "code",
      "execution_count": null,
      "metadata": {
        "colab": {
          "base_uri": "https://localhost:8080/"
        },
        "id": "FELlfKyC_3N2",
        "outputId": "bcedb33e-36e2-40c8-842c-803f0641921a"
      },
      "outputs": [
        {
          "data": {
            "text/plain": [
              "0.7783692288325816"
            ]
          },
          "execution_count": 89,
          "metadata": {
            "tags": []
          },
          "output_type": "execute_result"
        }
      ],
      "source": [
        "lsvc_pca_accuracy = cross_val_score(lsvc_pca, x_train_prepared_pca, y_train, cv=5, scoring=\"accuracy\", n_jobs=4).mean()\n",
        "lsvc_pca_accuracy"
      ]
    },
    {
      "cell_type": "markdown",
      "metadata": {
        "id": "FD81TUdW_3N2"
      },
      "source": [
        "## Logistic Regression with PCA"
      ]
    },
    {
      "cell_type": "code",
      "execution_count": null,
      "metadata": {
        "colab": {
          "base_uri": "https://localhost:8080/"
        },
        "id": "ewY-W4CV_3N3",
        "outputId": "c26d11b4-b434-4680-e332-aaa224d9c2c2"
      },
      "outputs": [
        {
          "data": {
            "text/plain": [
              "LogisticRegression(random_state=42, solver='liblinear')"
            ]
          },
          "execution_count": 78,
          "metadata": {
            "tags": []
          },
          "output_type": "execute_result"
        }
      ],
      "source": [
        "log_reg_pca = LogisticRegression(random_state=42, solver='liblinear')\n",
        "log_reg_pca.fit(x_train_prepared_pca, y_train)"
      ]
    },
    {
      "cell_type": "code",
      "execution_count": null,
      "metadata": {
        "colab": {
          "base_uri": "https://localhost:8080/"
        },
        "id": "LQMDedlF_3N3",
        "outputId": "827de85b-8eca-4e87-f825-c744d21d9fdf"
      },
      "outputs": [
        {
          "data": {
            "text/plain": [
              "0.7551258714127318"
            ]
          },
          "execution_count": 83,
          "metadata": {
            "tags": []
          },
          "output_type": "execute_result"
        }
      ],
      "source": [
        "log_reg_pca_auc = cross_val_score(log_reg_pca, x_train_prepared_pca, y_train, cv=5, scoring=\"roc_auc\", n_jobs=4).mean()\n",
        "log_reg_pca_auc"
      ]
    },
    {
      "cell_type": "code",
      "execution_count": null,
      "metadata": {
        "colab": {
          "base_uri": "https://localhost:8080/"
        },
        "id": "c0QmsV-q_3N4",
        "outputId": "2a0f9be8-eac0-44f1-b0f2-12913236e0b4"
      },
      "outputs": [
        {
          "data": {
            "text/plain": [
              "0.7791000540040075"
            ]
          },
          "execution_count": 84,
          "metadata": {
            "tags": []
          },
          "output_type": "execute_result"
        }
      ],
      "source": [
        "log_reg_pca_accuracy = cross_val_score(log_reg_pca, x_train_prepared_pca, y_train, cv=5, scoring=\"accuracy\", n_jobs=4).mean()\n",
        "log_reg_pca_accuracy"
      ]
    },
    {
      "cell_type": "code",
      "execution_count": null,
      "metadata": {
        "id": "JounqaV8G2Ov"
      },
      "outputs": [],
      "source": [
        "pickle.dump(log_reg_pca, open(\"log_reg_pca.sav\", 'wb'))"
      ]
    },
    {
      "cell_type": "code",
      "execution_count": null,
      "metadata": {
        "id": "tpRwXSacG2Ow"
      },
      "outputs": [],
      "source": [
        "log_reg_pca = pickle.load(open(\"log_reg_pca.sav\", 'rb'))"
      ]
    },
    {
      "cell_type": "markdown",
      "metadata": {
        "id": "tGvWd3Rs_3N5"
      },
      "source": [
        "## Extra Trees Classifier with PCA"
      ]
    },
    {
      "cell_type": "code",
      "execution_count": null,
      "metadata": {
        "colab": {
          "base_uri": "https://localhost:8080/"
        },
        "id": "XwfpnVsK_3N5",
        "outputId": "0c40043b-a173-408e-efc3-e39910aa4c26"
      },
      "outputs": [
        {
          "data": {
            "text/plain": [
              "ExtraTreesClassifier(max_depth=15, n_estimators=500, n_jobs=-1, random_state=42)"
            ]
          },
          "execution_count": 79,
          "metadata": {
            "tags": []
          },
          "output_type": "execute_result"
        }
      ],
      "source": [
        "extra_trees_clf_pca = ExtraTreesClassifier(max_depth=15,  n_jobs=-1, n_estimators=500, random_state=42)\n",
        "extra_trees_clf_pca.fit(x_train_prepared_pca, y_train)"
      ]
    },
    {
      "cell_type": "code",
      "execution_count": null,
      "metadata": {
        "colab": {
          "base_uri": "https://localhost:8080/"
        },
        "id": "b4ZontkV_3N6",
        "outputId": "b8c94c36-d3b7-45e5-e810-70883035146c"
      },
      "outputs": [
        {
          "data": {
            "text/plain": [
              "0.780229421734698"
            ]
          },
          "execution_count": 86,
          "metadata": {
            "tags": []
          },
          "output_type": "execute_result"
        }
      ],
      "source": [
        "extra_trees_clf_pca_auc = cross_val_score(extra_trees_clf_pca, x_train_prepared_pca, y_train, cv=5, scoring=\"roc_auc\", n_jobs=4).mean()\n",
        "extra_trees_clf_pca_auc"
      ]
    },
    {
      "cell_type": "code",
      "execution_count": null,
      "metadata": {
        "colab": {
          "base_uri": "https://localhost:8080/"
        },
        "id": "jRlMiCI2_3N6",
        "outputId": "14edc676-a2f0-4b43-da9d-e5572114a9d5"
      },
      "outputs": [
        {
          "data": {
            "text/plain": [
              "0.7878172871678085"
            ]
          },
          "execution_count": 87,
          "metadata": {
            "tags": []
          },
          "output_type": "execute_result"
        }
      ],
      "source": [
        "extra_trees_clf_pca_accuracy = cross_val_score(extra_trees_clf_pca, x_train_prepared_pca, y_train, cv=5, scoring=\"accuracy\", n_jobs=4).mean()\n",
        "extra_trees_clf_pca_accuracy"
      ]
    },
    {
      "cell_type": "code",
      "execution_count": null,
      "metadata": {
        "id": "9omQOmtWG2O0"
      },
      "outputs": [],
      "source": [
        "pickle.dump(extra_trees_clf_pca, open(\"extra_trees_clf_pca.sav\", 'wb'))"
      ]
    },
    {
      "cell_type": "code",
      "execution_count": null,
      "metadata": {
        "id": "z0k6xsvEG2O1"
      },
      "outputs": [],
      "source": [
        "extra_trees_clf_pca = pickle.load(open(\"extra_trees_clf_pca.sav\", 'rb'))"
      ]
    },
    {
      "cell_type": "markdown",
      "metadata": {
        "id": "Kechhh3c_3N7"
      },
      "source": [
        "## Voting Classifier\n"
      ]
    },
    {
      "cell_type": "markdown",
      "metadata": {
        "id": "-CGiRxs-_3N7"
      },
      "source": [
        "### Soft Voting"
      ]
    },
    {
      "cell_type": "code",
      "execution_count": null,
      "metadata": {
        "colab": {
          "base_uri": "https://localhost:8080/"
        },
        "id": "tew6MaMz_3N8",
        "outputId": "b15bdc1f-590b-4d19-f9d5-04923eee9d5e"
      },
      "outputs": [
        {
          "data": {
            "text/plain": [
              "VotingClassifier(estimators=[('rf_clf',\n",
              "                              RandomForestClassifier(class_weight='balanced',\n",
              "                                                     criterion='entropy',\n",
              "                                                     max_features='log2',\n",
              "                                                     n_estimators=2000,\n",
              "                                                     n_jobs=-1,\n",
              "                                                     random_state=42)),\n",
              "                             ('log_reg_pca',\n",
              "                              LogisticRegression(random_state=42,\n",
              "                                                 solver='liblinear')),\n",
              "                             ('extra_trees_clf_pca',\n",
              "                              ExtraTreesClassifier(max_depth=15,\n",
              "                                                   n_estimators=500, n_jobs=-1,\n",
              "                                                   random_state=42))],\n",
              "                 n_jobs=4, voting='soft')"
            ]
          },
          "execution_count": 80,
          "metadata": {
            "tags": []
          },
          "output_type": "execute_result"
        }
      ],
      "source": [
        "voting_clf_pca_soft = VotingClassifier(\n",
        "    estimators=[\n",
        "                ('rf_clf', rf_clf), \n",
        "                ('log_reg_pca', log_reg_pca), \n",
        "                ('extra_trees_clf_pca', extra_trees_clf_pca)\n",
        "                ], \n",
        "voting='soft', n_jobs=4)\n",
        "voting_clf_pca_soft.fit(x_train_prepared_pca, y_train)"
      ]
    },
    {
      "cell_type": "code",
      "execution_count": null,
      "metadata": {
        "colab": {
          "base_uri": "https://localhost:8080/"
        },
        "collapsed": true,
        "id": "BNQIXJCeFfM3",
        "outputId": "4bc19f80-2e15-4fe7-8c5c-428fb676c645"
      },
      "outputs": [
        {
          "ename": "KeyboardInterrupt",
          "evalue": "",
          "output_type": "error",
          "traceback": [
            "\u001b[1;31m---------------------------------------------------------------------------\u001b[0m",
            "\u001b[1;31mKeyboardInterrupt\u001b[0m                         Traceback (most recent call last)",
            "\u001b[1;32m<ipython-input-90-5ec1c9749f44>\u001b[0m in \u001b[0;36m<module>\u001b[1;34m\u001b[0m\n\u001b[1;32m----> 1\u001b[1;33m \u001b[0mvoting_clf_pca_soft_auc\u001b[0m \u001b[1;33m=\u001b[0m \u001b[0mcross_val_score\u001b[0m\u001b[1;33m(\u001b[0m\u001b[0mvoting_clf_pca_soft\u001b[0m\u001b[1;33m,\u001b[0m \u001b[0mx_train_prepared_pca\u001b[0m\u001b[1;33m,\u001b[0m \u001b[0my_train\u001b[0m\u001b[1;33m,\u001b[0m \u001b[0mcv\u001b[0m\u001b[1;33m=\u001b[0m\u001b[1;36m3\u001b[0m\u001b[1;33m,\u001b[0m \u001b[0mscoring\u001b[0m\u001b[1;33m=\u001b[0m\u001b[1;34m\"roc_auc\"\u001b[0m\u001b[1;33m)\u001b[0m\u001b[1;33m.\u001b[0m\u001b[0mmean\u001b[0m\u001b[1;33m(\u001b[0m\u001b[1;33m)\u001b[0m\u001b[1;33m\u001b[0m\u001b[1;33m\u001b[0m\u001b[0m\n\u001b[0m\u001b[0;32m      2\u001b[0m \u001b[0mvoting_clf_pca_soft_auc\u001b[0m\u001b[1;33m\u001b[0m\u001b[1;33m\u001b[0m\u001b[0m\n",
            "\u001b[1;32mD:\\ProgramFiles\\Anaconda\\lib\\site-packages\\sklearn\\utils\\validation.py\u001b[0m in \u001b[0;36minner_f\u001b[1;34m(*args, **kwargs)\u001b[0m\n\u001b[0;32m     61\u001b[0m             \u001b[0mextra_args\u001b[0m \u001b[1;33m=\u001b[0m \u001b[0mlen\u001b[0m\u001b[1;33m(\u001b[0m\u001b[0margs\u001b[0m\u001b[1;33m)\u001b[0m \u001b[1;33m-\u001b[0m \u001b[0mlen\u001b[0m\u001b[1;33m(\u001b[0m\u001b[0mall_args\u001b[0m\u001b[1;33m)\u001b[0m\u001b[1;33m\u001b[0m\u001b[1;33m\u001b[0m\u001b[0m\n\u001b[0;32m     62\u001b[0m             \u001b[1;32mif\u001b[0m \u001b[0mextra_args\u001b[0m \u001b[1;33m<=\u001b[0m \u001b[1;36m0\u001b[0m\u001b[1;33m:\u001b[0m\u001b[1;33m\u001b[0m\u001b[1;33m\u001b[0m\u001b[0m\n\u001b[1;32m---> 63\u001b[1;33m                 \u001b[1;32mreturn\u001b[0m \u001b[0mf\u001b[0m\u001b[1;33m(\u001b[0m\u001b[1;33m*\u001b[0m\u001b[0margs\u001b[0m\u001b[1;33m,\u001b[0m \u001b[1;33m**\u001b[0m\u001b[0mkwargs\u001b[0m\u001b[1;33m)\u001b[0m\u001b[1;33m\u001b[0m\u001b[1;33m\u001b[0m\u001b[0m\n\u001b[0m\u001b[0;32m     64\u001b[0m \u001b[1;33m\u001b[0m\u001b[0m\n\u001b[0;32m     65\u001b[0m             \u001b[1;31m# extra_args > 0\u001b[0m\u001b[1;33m\u001b[0m\u001b[1;33m\u001b[0m\u001b[1;33m\u001b[0m\u001b[0m\n",
            "\u001b[1;32mD:\\ProgramFiles\\Anaconda\\lib\\site-packages\\sklearn\\model_selection\\_validation.py\u001b[0m in \u001b[0;36mcross_val_score\u001b[1;34m(estimator, X, y, groups, scoring, cv, n_jobs, verbose, fit_params, pre_dispatch, error_score)\u001b[0m\n\u001b[0;32m    443\u001b[0m     \u001b[0mscorer\u001b[0m \u001b[1;33m=\u001b[0m \u001b[0mcheck_scoring\u001b[0m\u001b[1;33m(\u001b[0m\u001b[0mestimator\u001b[0m\u001b[1;33m,\u001b[0m \u001b[0mscoring\u001b[0m\u001b[1;33m=\u001b[0m\u001b[0mscoring\u001b[0m\u001b[1;33m)\u001b[0m\u001b[1;33m\u001b[0m\u001b[1;33m\u001b[0m\u001b[0m\n\u001b[0;32m    444\u001b[0m \u001b[1;33m\u001b[0m\u001b[0m\n\u001b[1;32m--> 445\u001b[1;33m     cv_results = cross_validate(estimator=estimator, X=X, y=y, groups=groups,\n\u001b[0m\u001b[0;32m    446\u001b[0m                                 \u001b[0mscoring\u001b[0m\u001b[1;33m=\u001b[0m\u001b[1;33m{\u001b[0m\u001b[1;34m'score'\u001b[0m\u001b[1;33m:\u001b[0m \u001b[0mscorer\u001b[0m\u001b[1;33m}\u001b[0m\u001b[1;33m,\u001b[0m \u001b[0mcv\u001b[0m\u001b[1;33m=\u001b[0m\u001b[0mcv\u001b[0m\u001b[1;33m,\u001b[0m\u001b[1;33m\u001b[0m\u001b[1;33m\u001b[0m\u001b[0m\n\u001b[0;32m    447\u001b[0m                                 \u001b[0mn_jobs\u001b[0m\u001b[1;33m=\u001b[0m\u001b[0mn_jobs\u001b[0m\u001b[1;33m,\u001b[0m \u001b[0mverbose\u001b[0m\u001b[1;33m=\u001b[0m\u001b[0mverbose\u001b[0m\u001b[1;33m,\u001b[0m\u001b[1;33m\u001b[0m\u001b[1;33m\u001b[0m\u001b[0m\n",
            "\u001b[1;32mD:\\ProgramFiles\\Anaconda\\lib\\site-packages\\sklearn\\utils\\validation.py\u001b[0m in \u001b[0;36minner_f\u001b[1;34m(*args, **kwargs)\u001b[0m\n\u001b[0;32m     61\u001b[0m             \u001b[0mextra_args\u001b[0m \u001b[1;33m=\u001b[0m \u001b[0mlen\u001b[0m\u001b[1;33m(\u001b[0m\u001b[0margs\u001b[0m\u001b[1;33m)\u001b[0m \u001b[1;33m-\u001b[0m \u001b[0mlen\u001b[0m\u001b[1;33m(\u001b[0m\u001b[0mall_args\u001b[0m\u001b[1;33m)\u001b[0m\u001b[1;33m\u001b[0m\u001b[1;33m\u001b[0m\u001b[0m\n\u001b[0;32m     62\u001b[0m             \u001b[1;32mif\u001b[0m \u001b[0mextra_args\u001b[0m \u001b[1;33m<=\u001b[0m \u001b[1;36m0\u001b[0m\u001b[1;33m:\u001b[0m\u001b[1;33m\u001b[0m\u001b[1;33m\u001b[0m\u001b[0m\n\u001b[1;32m---> 63\u001b[1;33m                 \u001b[1;32mreturn\u001b[0m \u001b[0mf\u001b[0m\u001b[1;33m(\u001b[0m\u001b[1;33m*\u001b[0m\u001b[0margs\u001b[0m\u001b[1;33m,\u001b[0m \u001b[1;33m**\u001b[0m\u001b[0mkwargs\u001b[0m\u001b[1;33m)\u001b[0m\u001b[1;33m\u001b[0m\u001b[1;33m\u001b[0m\u001b[0m\n\u001b[0m\u001b[0;32m     64\u001b[0m \u001b[1;33m\u001b[0m\u001b[0m\n\u001b[0;32m     65\u001b[0m             \u001b[1;31m# extra_args > 0\u001b[0m\u001b[1;33m\u001b[0m\u001b[1;33m\u001b[0m\u001b[1;33m\u001b[0m\u001b[0m\n",
            "\u001b[1;32mD:\\ProgramFiles\\Anaconda\\lib\\site-packages\\sklearn\\model_selection\\_validation.py\u001b[0m in \u001b[0;36mcross_validate\u001b[1;34m(estimator, X, y, groups, scoring, cv, n_jobs, verbose, fit_params, pre_dispatch, return_train_score, return_estimator, error_score)\u001b[0m\n\u001b[0;32m    248\u001b[0m     parallel = Parallel(n_jobs=n_jobs, verbose=verbose,\n\u001b[0;32m    249\u001b[0m                         pre_dispatch=pre_dispatch)\n\u001b[1;32m--> 250\u001b[1;33m     results = parallel(\n\u001b[0m\u001b[0;32m    251\u001b[0m         delayed(_fit_and_score)(\n\u001b[0;32m    252\u001b[0m             \u001b[0mclone\u001b[0m\u001b[1;33m(\u001b[0m\u001b[0mestimator\u001b[0m\u001b[1;33m)\u001b[0m\u001b[1;33m,\u001b[0m \u001b[0mX\u001b[0m\u001b[1;33m,\u001b[0m \u001b[0my\u001b[0m\u001b[1;33m,\u001b[0m \u001b[0mscorers\u001b[0m\u001b[1;33m,\u001b[0m \u001b[0mtrain\u001b[0m\u001b[1;33m,\u001b[0m \u001b[0mtest\u001b[0m\u001b[1;33m,\u001b[0m \u001b[0mverbose\u001b[0m\u001b[1;33m,\u001b[0m \u001b[1;32mNone\u001b[0m\u001b[1;33m,\u001b[0m\u001b[1;33m\u001b[0m\u001b[1;33m\u001b[0m\u001b[0m\n",
            "\u001b[1;32mD:\\ProgramFiles\\Anaconda\\lib\\site-packages\\joblib\\parallel.py\u001b[0m in \u001b[0;36m__call__\u001b[1;34m(self, iterable)\u001b[0m\n\u001b[0;32m   1039\u001b[0m             \u001b[1;31m# remaining jobs.\u001b[0m\u001b[1;33m\u001b[0m\u001b[1;33m\u001b[0m\u001b[1;33m\u001b[0m\u001b[0m\n\u001b[0;32m   1040\u001b[0m             \u001b[0mself\u001b[0m\u001b[1;33m.\u001b[0m\u001b[0m_iterating\u001b[0m \u001b[1;33m=\u001b[0m \u001b[1;32mFalse\u001b[0m\u001b[1;33m\u001b[0m\u001b[1;33m\u001b[0m\u001b[0m\n\u001b[1;32m-> 1041\u001b[1;33m             \u001b[1;32mif\u001b[0m \u001b[0mself\u001b[0m\u001b[1;33m.\u001b[0m\u001b[0mdispatch_one_batch\u001b[0m\u001b[1;33m(\u001b[0m\u001b[0miterator\u001b[0m\u001b[1;33m)\u001b[0m\u001b[1;33m:\u001b[0m\u001b[1;33m\u001b[0m\u001b[1;33m\u001b[0m\u001b[0m\n\u001b[0m\u001b[0;32m   1042\u001b[0m                 \u001b[0mself\u001b[0m\u001b[1;33m.\u001b[0m\u001b[0m_iterating\u001b[0m \u001b[1;33m=\u001b[0m \u001b[0mself\u001b[0m\u001b[1;33m.\u001b[0m\u001b[0m_original_iterator\u001b[0m \u001b[1;32mis\u001b[0m \u001b[1;32mnot\u001b[0m \u001b[1;32mNone\u001b[0m\u001b[1;33m\u001b[0m\u001b[1;33m\u001b[0m\u001b[0m\n\u001b[0;32m   1043\u001b[0m \u001b[1;33m\u001b[0m\u001b[0m\n",
            "\u001b[1;32mD:\\ProgramFiles\\Anaconda\\lib\\site-packages\\joblib\\parallel.py\u001b[0m in \u001b[0;36mdispatch_one_batch\u001b[1;34m(self, iterator)\u001b[0m\n\u001b[0;32m    857\u001b[0m                 \u001b[1;32mreturn\u001b[0m \u001b[1;32mFalse\u001b[0m\u001b[1;33m\u001b[0m\u001b[1;33m\u001b[0m\u001b[0m\n\u001b[0;32m    858\u001b[0m             \u001b[1;32melse\u001b[0m\u001b[1;33m:\u001b[0m\u001b[1;33m\u001b[0m\u001b[1;33m\u001b[0m\u001b[0m\n\u001b[1;32m--> 859\u001b[1;33m                 \u001b[0mself\u001b[0m\u001b[1;33m.\u001b[0m\u001b[0m_dispatch\u001b[0m\u001b[1;33m(\u001b[0m\u001b[0mtasks\u001b[0m\u001b[1;33m)\u001b[0m\u001b[1;33m\u001b[0m\u001b[1;33m\u001b[0m\u001b[0m\n\u001b[0m\u001b[0;32m    860\u001b[0m                 \u001b[1;32mreturn\u001b[0m \u001b[1;32mTrue\u001b[0m\u001b[1;33m\u001b[0m\u001b[1;33m\u001b[0m\u001b[0m\n\u001b[0;32m    861\u001b[0m \u001b[1;33m\u001b[0m\u001b[0m\n",
            "\u001b[1;32mD:\\ProgramFiles\\Anaconda\\lib\\site-packages\\joblib\\parallel.py\u001b[0m in \u001b[0;36m_dispatch\u001b[1;34m(self, batch)\u001b[0m\n\u001b[0;32m    775\u001b[0m         \u001b[1;32mwith\u001b[0m \u001b[0mself\u001b[0m\u001b[1;33m.\u001b[0m\u001b[0m_lock\u001b[0m\u001b[1;33m:\u001b[0m\u001b[1;33m\u001b[0m\u001b[1;33m\u001b[0m\u001b[0m\n\u001b[0;32m    776\u001b[0m             \u001b[0mjob_idx\u001b[0m \u001b[1;33m=\u001b[0m \u001b[0mlen\u001b[0m\u001b[1;33m(\u001b[0m\u001b[0mself\u001b[0m\u001b[1;33m.\u001b[0m\u001b[0m_jobs\u001b[0m\u001b[1;33m)\u001b[0m\u001b[1;33m\u001b[0m\u001b[1;33m\u001b[0m\u001b[0m\n\u001b[1;32m--> 777\u001b[1;33m             \u001b[0mjob\u001b[0m \u001b[1;33m=\u001b[0m \u001b[0mself\u001b[0m\u001b[1;33m.\u001b[0m\u001b[0m_backend\u001b[0m\u001b[1;33m.\u001b[0m\u001b[0mapply_async\u001b[0m\u001b[1;33m(\u001b[0m\u001b[0mbatch\u001b[0m\u001b[1;33m,\u001b[0m \u001b[0mcallback\u001b[0m\u001b[1;33m=\u001b[0m\u001b[0mcb\u001b[0m\u001b[1;33m)\u001b[0m\u001b[1;33m\u001b[0m\u001b[1;33m\u001b[0m\u001b[0m\n\u001b[0m\u001b[0;32m    778\u001b[0m             \u001b[1;31m# A job can complete so quickly than its callback is\u001b[0m\u001b[1;33m\u001b[0m\u001b[1;33m\u001b[0m\u001b[1;33m\u001b[0m\u001b[0m\n\u001b[0;32m    779\u001b[0m             \u001b[1;31m# called before we get here, causing self._jobs to\u001b[0m\u001b[1;33m\u001b[0m\u001b[1;33m\u001b[0m\u001b[1;33m\u001b[0m\u001b[0m\n",
            "\u001b[1;32mD:\\ProgramFiles\\Anaconda\\lib\\site-packages\\joblib\\_parallel_backends.py\u001b[0m in \u001b[0;36mapply_async\u001b[1;34m(self, func, callback)\u001b[0m\n\u001b[0;32m    206\u001b[0m     \u001b[1;32mdef\u001b[0m \u001b[0mapply_async\u001b[0m\u001b[1;33m(\u001b[0m\u001b[0mself\u001b[0m\u001b[1;33m,\u001b[0m \u001b[0mfunc\u001b[0m\u001b[1;33m,\u001b[0m \u001b[0mcallback\u001b[0m\u001b[1;33m=\u001b[0m\u001b[1;32mNone\u001b[0m\u001b[1;33m)\u001b[0m\u001b[1;33m:\u001b[0m\u001b[1;33m\u001b[0m\u001b[1;33m\u001b[0m\u001b[0m\n\u001b[0;32m    207\u001b[0m         \u001b[1;34m\"\"\"Schedule a func to be run\"\"\"\u001b[0m\u001b[1;33m\u001b[0m\u001b[1;33m\u001b[0m\u001b[0m\n\u001b[1;32m--> 208\u001b[1;33m         \u001b[0mresult\u001b[0m \u001b[1;33m=\u001b[0m \u001b[0mImmediateResult\u001b[0m\u001b[1;33m(\u001b[0m\u001b[0mfunc\u001b[0m\u001b[1;33m)\u001b[0m\u001b[1;33m\u001b[0m\u001b[1;33m\u001b[0m\u001b[0m\n\u001b[0m\u001b[0;32m    209\u001b[0m         \u001b[1;32mif\u001b[0m \u001b[0mcallback\u001b[0m\u001b[1;33m:\u001b[0m\u001b[1;33m\u001b[0m\u001b[1;33m\u001b[0m\u001b[0m\n\u001b[0;32m    210\u001b[0m             \u001b[0mcallback\u001b[0m\u001b[1;33m(\u001b[0m\u001b[0mresult\u001b[0m\u001b[1;33m)\u001b[0m\u001b[1;33m\u001b[0m\u001b[1;33m\u001b[0m\u001b[0m\n",
            "\u001b[1;32mD:\\ProgramFiles\\Anaconda\\lib\\site-packages\\joblib\\_parallel_backends.py\u001b[0m in \u001b[0;36m__init__\u001b[1;34m(self, batch)\u001b[0m\n\u001b[0;32m    570\u001b[0m         \u001b[1;31m# Don't delay the application, to avoid keeping the input\u001b[0m\u001b[1;33m\u001b[0m\u001b[1;33m\u001b[0m\u001b[1;33m\u001b[0m\u001b[0m\n\u001b[0;32m    571\u001b[0m         \u001b[1;31m# arguments in memory\u001b[0m\u001b[1;33m\u001b[0m\u001b[1;33m\u001b[0m\u001b[1;33m\u001b[0m\u001b[0m\n\u001b[1;32m--> 572\u001b[1;33m         \u001b[0mself\u001b[0m\u001b[1;33m.\u001b[0m\u001b[0mresults\u001b[0m \u001b[1;33m=\u001b[0m \u001b[0mbatch\u001b[0m\u001b[1;33m(\u001b[0m\u001b[1;33m)\u001b[0m\u001b[1;33m\u001b[0m\u001b[1;33m\u001b[0m\u001b[0m\n\u001b[0m\u001b[0;32m    573\u001b[0m \u001b[1;33m\u001b[0m\u001b[0m\n\u001b[0;32m    574\u001b[0m     \u001b[1;32mdef\u001b[0m \u001b[0mget\u001b[0m\u001b[1;33m(\u001b[0m\u001b[0mself\u001b[0m\u001b[1;33m)\u001b[0m\u001b[1;33m:\u001b[0m\u001b[1;33m\u001b[0m\u001b[1;33m\u001b[0m\u001b[0m\n",
            "\u001b[1;32mD:\\ProgramFiles\\Anaconda\\lib\\site-packages\\joblib\\parallel.py\u001b[0m in \u001b[0;36m__call__\u001b[1;34m(self)\u001b[0m\n\u001b[0;32m    260\u001b[0m         \u001b[1;31m# change the default number of processes to -1\u001b[0m\u001b[1;33m\u001b[0m\u001b[1;33m\u001b[0m\u001b[1;33m\u001b[0m\u001b[0m\n\u001b[0;32m    261\u001b[0m         \u001b[1;32mwith\u001b[0m \u001b[0mparallel_backend\u001b[0m\u001b[1;33m(\u001b[0m\u001b[0mself\u001b[0m\u001b[1;33m.\u001b[0m\u001b[0m_backend\u001b[0m\u001b[1;33m,\u001b[0m \u001b[0mn_jobs\u001b[0m\u001b[1;33m=\u001b[0m\u001b[0mself\u001b[0m\u001b[1;33m.\u001b[0m\u001b[0m_n_jobs\u001b[0m\u001b[1;33m)\u001b[0m\u001b[1;33m:\u001b[0m\u001b[1;33m\u001b[0m\u001b[1;33m\u001b[0m\u001b[0m\n\u001b[1;32m--> 262\u001b[1;33m             return [func(*args, **kwargs)\n\u001b[0m\u001b[0;32m    263\u001b[0m                     for func, args, kwargs in self.items]\n\u001b[0;32m    264\u001b[0m \u001b[1;33m\u001b[0m\u001b[0m\n",
            "\u001b[1;32mD:\\ProgramFiles\\Anaconda\\lib\\site-packages\\joblib\\parallel.py\u001b[0m in \u001b[0;36m<listcomp>\u001b[1;34m(.0)\u001b[0m\n\u001b[0;32m    260\u001b[0m         \u001b[1;31m# change the default number of processes to -1\u001b[0m\u001b[1;33m\u001b[0m\u001b[1;33m\u001b[0m\u001b[1;33m\u001b[0m\u001b[0m\n\u001b[0;32m    261\u001b[0m         \u001b[1;32mwith\u001b[0m \u001b[0mparallel_backend\u001b[0m\u001b[1;33m(\u001b[0m\u001b[0mself\u001b[0m\u001b[1;33m.\u001b[0m\u001b[0m_backend\u001b[0m\u001b[1;33m,\u001b[0m \u001b[0mn_jobs\u001b[0m\u001b[1;33m=\u001b[0m\u001b[0mself\u001b[0m\u001b[1;33m.\u001b[0m\u001b[0m_n_jobs\u001b[0m\u001b[1;33m)\u001b[0m\u001b[1;33m:\u001b[0m\u001b[1;33m\u001b[0m\u001b[1;33m\u001b[0m\u001b[0m\n\u001b[1;32m--> 262\u001b[1;33m             return [func(*args, **kwargs)\n\u001b[0m\u001b[0;32m    263\u001b[0m                     for func, args, kwargs in self.items]\n\u001b[0;32m    264\u001b[0m \u001b[1;33m\u001b[0m\u001b[0m\n",
            "\u001b[1;32mD:\\ProgramFiles\\Anaconda\\lib\\site-packages\\sklearn\\utils\\fixes.py\u001b[0m in \u001b[0;36m__call__\u001b[1;34m(self, *args, **kwargs)\u001b[0m\n\u001b[0;32m    220\u001b[0m     \u001b[1;32mdef\u001b[0m \u001b[0m__call__\u001b[0m\u001b[1;33m(\u001b[0m\u001b[0mself\u001b[0m\u001b[1;33m,\u001b[0m \u001b[1;33m*\u001b[0m\u001b[0margs\u001b[0m\u001b[1;33m,\u001b[0m \u001b[1;33m**\u001b[0m\u001b[0mkwargs\u001b[0m\u001b[1;33m)\u001b[0m\u001b[1;33m:\u001b[0m\u001b[1;33m\u001b[0m\u001b[1;33m\u001b[0m\u001b[0m\n\u001b[0;32m    221\u001b[0m         \u001b[1;32mwith\u001b[0m \u001b[0mconfig_context\u001b[0m\u001b[1;33m(\u001b[0m\u001b[1;33m**\u001b[0m\u001b[0mself\u001b[0m\u001b[1;33m.\u001b[0m\u001b[0mconfig\u001b[0m\u001b[1;33m)\u001b[0m\u001b[1;33m:\u001b[0m\u001b[1;33m\u001b[0m\u001b[1;33m\u001b[0m\u001b[0m\n\u001b[1;32m--> 222\u001b[1;33m             \u001b[1;32mreturn\u001b[0m \u001b[0mself\u001b[0m\u001b[1;33m.\u001b[0m\u001b[0mfunction\u001b[0m\u001b[1;33m(\u001b[0m\u001b[1;33m*\u001b[0m\u001b[0margs\u001b[0m\u001b[1;33m,\u001b[0m \u001b[1;33m**\u001b[0m\u001b[0mkwargs\u001b[0m\u001b[1;33m)\u001b[0m\u001b[1;33m\u001b[0m\u001b[1;33m\u001b[0m\u001b[0m\n\u001b[0m",
            "\u001b[1;32mD:\\ProgramFiles\\Anaconda\\lib\\site-packages\\sklearn\\model_selection\\_validation.py\u001b[0m in \u001b[0;36m_fit_and_score\u001b[1;34m(estimator, X, y, scorer, train, test, verbose, parameters, fit_params, return_train_score, return_parameters, return_n_test_samples, return_times, return_estimator, split_progress, candidate_progress, error_score)\u001b[0m\n\u001b[0;32m    596\u001b[0m             \u001b[0mestimator\u001b[0m\u001b[1;33m.\u001b[0m\u001b[0mfit\u001b[0m\u001b[1;33m(\u001b[0m\u001b[0mX_train\u001b[0m\u001b[1;33m,\u001b[0m \u001b[1;33m**\u001b[0m\u001b[0mfit_params\u001b[0m\u001b[1;33m)\u001b[0m\u001b[1;33m\u001b[0m\u001b[1;33m\u001b[0m\u001b[0m\n\u001b[0;32m    597\u001b[0m         \u001b[1;32melse\u001b[0m\u001b[1;33m:\u001b[0m\u001b[1;33m\u001b[0m\u001b[1;33m\u001b[0m\u001b[0m\n\u001b[1;32m--> 598\u001b[1;33m             \u001b[0mestimator\u001b[0m\u001b[1;33m.\u001b[0m\u001b[0mfit\u001b[0m\u001b[1;33m(\u001b[0m\u001b[0mX_train\u001b[0m\u001b[1;33m,\u001b[0m \u001b[0my_train\u001b[0m\u001b[1;33m,\u001b[0m \u001b[1;33m**\u001b[0m\u001b[0mfit_params\u001b[0m\u001b[1;33m)\u001b[0m\u001b[1;33m\u001b[0m\u001b[1;33m\u001b[0m\u001b[0m\n\u001b[0m\u001b[0;32m    599\u001b[0m \u001b[1;33m\u001b[0m\u001b[0m\n\u001b[0;32m    600\u001b[0m     \u001b[1;32mexcept\u001b[0m \u001b[0mException\u001b[0m \u001b[1;32mas\u001b[0m \u001b[0me\u001b[0m\u001b[1;33m:\u001b[0m\u001b[1;33m\u001b[0m\u001b[1;33m\u001b[0m\u001b[0m\n",
            "\u001b[1;32mD:\\ProgramFiles\\Anaconda\\lib\\site-packages\\sklearn\\ensemble\\_voting.py\u001b[0m in \u001b[0;36mfit\u001b[1;34m(self, X, y, sample_weight)\u001b[0m\n\u001b[0;32m    290\u001b[0m         \u001b[0mtransformed_y\u001b[0m \u001b[1;33m=\u001b[0m \u001b[0mself\u001b[0m\u001b[1;33m.\u001b[0m\u001b[0mle_\u001b[0m\u001b[1;33m.\u001b[0m\u001b[0mtransform\u001b[0m\u001b[1;33m(\u001b[0m\u001b[0my\u001b[0m\u001b[1;33m)\u001b[0m\u001b[1;33m\u001b[0m\u001b[1;33m\u001b[0m\u001b[0m\n\u001b[0;32m    291\u001b[0m \u001b[1;33m\u001b[0m\u001b[0m\n\u001b[1;32m--> 292\u001b[1;33m         \u001b[1;32mreturn\u001b[0m \u001b[0msuper\u001b[0m\u001b[1;33m(\u001b[0m\u001b[1;33m)\u001b[0m\u001b[1;33m.\u001b[0m\u001b[0mfit\u001b[0m\u001b[1;33m(\u001b[0m\u001b[0mX\u001b[0m\u001b[1;33m,\u001b[0m \u001b[0mtransformed_y\u001b[0m\u001b[1;33m,\u001b[0m \u001b[0msample_weight\u001b[0m\u001b[1;33m)\u001b[0m\u001b[1;33m\u001b[0m\u001b[1;33m\u001b[0m\u001b[0m\n\u001b[0m\u001b[0;32m    293\u001b[0m \u001b[1;33m\u001b[0m\u001b[0m\n\u001b[0;32m    294\u001b[0m     \u001b[1;32mdef\u001b[0m \u001b[0mpredict\u001b[0m\u001b[1;33m(\u001b[0m\u001b[0mself\u001b[0m\u001b[1;33m,\u001b[0m \u001b[0mX\u001b[0m\u001b[1;33m)\u001b[0m\u001b[1;33m:\u001b[0m\u001b[1;33m\u001b[0m\u001b[1;33m\u001b[0m\u001b[0m\n",
            "\u001b[1;32mD:\\ProgramFiles\\Anaconda\\lib\\site-packages\\sklearn\\ensemble\\_voting.py\u001b[0m in \u001b[0;36mfit\u001b[1;34m(self, X, y, sample_weight)\u001b[0m\n\u001b[0;32m     72\u001b[0m                              % (len(self.weights), len(self.estimators)))\n\u001b[0;32m     73\u001b[0m \u001b[1;33m\u001b[0m\u001b[0m\n\u001b[1;32m---> 74\u001b[1;33m         self.estimators_ = Parallel(n_jobs=self.n_jobs)(\n\u001b[0m\u001b[0;32m     75\u001b[0m                 delayed(_fit_single_estimator)(\n\u001b[0;32m     76\u001b[0m                         \u001b[0mclone\u001b[0m\u001b[1;33m(\u001b[0m\u001b[0mclf\u001b[0m\u001b[1;33m)\u001b[0m\u001b[1;33m,\u001b[0m \u001b[0mX\u001b[0m\u001b[1;33m,\u001b[0m \u001b[0my\u001b[0m\u001b[1;33m,\u001b[0m\u001b[1;33m\u001b[0m\u001b[1;33m\u001b[0m\u001b[0m\n",
            "\u001b[1;32mD:\\ProgramFiles\\Anaconda\\lib\\site-packages\\joblib\\parallel.py\u001b[0m in \u001b[0;36m__call__\u001b[1;34m(self, iterable)\u001b[0m\n\u001b[0;32m   1052\u001b[0m \u001b[1;33m\u001b[0m\u001b[0m\n\u001b[0;32m   1053\u001b[0m             \u001b[1;32mwith\u001b[0m \u001b[0mself\u001b[0m\u001b[1;33m.\u001b[0m\u001b[0m_backend\u001b[0m\u001b[1;33m.\u001b[0m\u001b[0mretrieval_context\u001b[0m\u001b[1;33m(\u001b[0m\u001b[1;33m)\u001b[0m\u001b[1;33m:\u001b[0m\u001b[1;33m\u001b[0m\u001b[1;33m\u001b[0m\u001b[0m\n\u001b[1;32m-> 1054\u001b[1;33m                 \u001b[0mself\u001b[0m\u001b[1;33m.\u001b[0m\u001b[0mretrieve\u001b[0m\u001b[1;33m(\u001b[0m\u001b[1;33m)\u001b[0m\u001b[1;33m\u001b[0m\u001b[1;33m\u001b[0m\u001b[0m\n\u001b[0m\u001b[0;32m   1055\u001b[0m             \u001b[1;31m# Make sure that we get a last message telling us we are done\u001b[0m\u001b[1;33m\u001b[0m\u001b[1;33m\u001b[0m\u001b[1;33m\u001b[0m\u001b[0m\n\u001b[0;32m   1056\u001b[0m             \u001b[0melapsed_time\u001b[0m \u001b[1;33m=\u001b[0m \u001b[0mtime\u001b[0m\u001b[1;33m.\u001b[0m\u001b[0mtime\u001b[0m\u001b[1;33m(\u001b[0m\u001b[1;33m)\u001b[0m \u001b[1;33m-\u001b[0m \u001b[0mself\u001b[0m\u001b[1;33m.\u001b[0m\u001b[0m_start_time\u001b[0m\u001b[1;33m\u001b[0m\u001b[1;33m\u001b[0m\u001b[0m\n",
            "\u001b[1;32mD:\\ProgramFiles\\Anaconda\\lib\\site-packages\\joblib\\parallel.py\u001b[0m in \u001b[0;36mretrieve\u001b[1;34m(self)\u001b[0m\n\u001b[0;32m    931\u001b[0m             \u001b[1;32mtry\u001b[0m\u001b[1;33m:\u001b[0m\u001b[1;33m\u001b[0m\u001b[1;33m\u001b[0m\u001b[0m\n\u001b[0;32m    932\u001b[0m                 \u001b[1;32mif\u001b[0m \u001b[0mgetattr\u001b[0m\u001b[1;33m(\u001b[0m\u001b[0mself\u001b[0m\u001b[1;33m.\u001b[0m\u001b[0m_backend\u001b[0m\u001b[1;33m,\u001b[0m \u001b[1;34m'supports_timeout'\u001b[0m\u001b[1;33m,\u001b[0m \u001b[1;32mFalse\u001b[0m\u001b[1;33m)\u001b[0m\u001b[1;33m:\u001b[0m\u001b[1;33m\u001b[0m\u001b[1;33m\u001b[0m\u001b[0m\n\u001b[1;32m--> 933\u001b[1;33m                     \u001b[0mself\u001b[0m\u001b[1;33m.\u001b[0m\u001b[0m_output\u001b[0m\u001b[1;33m.\u001b[0m\u001b[0mextend\u001b[0m\u001b[1;33m(\u001b[0m\u001b[0mjob\u001b[0m\u001b[1;33m.\u001b[0m\u001b[0mget\u001b[0m\u001b[1;33m(\u001b[0m\u001b[0mtimeout\u001b[0m\u001b[1;33m=\u001b[0m\u001b[0mself\u001b[0m\u001b[1;33m.\u001b[0m\u001b[0mtimeout\u001b[0m\u001b[1;33m)\u001b[0m\u001b[1;33m)\u001b[0m\u001b[1;33m\u001b[0m\u001b[1;33m\u001b[0m\u001b[0m\n\u001b[0m\u001b[0;32m    934\u001b[0m                 \u001b[1;32melse\u001b[0m\u001b[1;33m:\u001b[0m\u001b[1;33m\u001b[0m\u001b[1;33m\u001b[0m\u001b[0m\n\u001b[0;32m    935\u001b[0m                     \u001b[0mself\u001b[0m\u001b[1;33m.\u001b[0m\u001b[0m_output\u001b[0m\u001b[1;33m.\u001b[0m\u001b[0mextend\u001b[0m\u001b[1;33m(\u001b[0m\u001b[0mjob\u001b[0m\u001b[1;33m.\u001b[0m\u001b[0mget\u001b[0m\u001b[1;33m(\u001b[0m\u001b[1;33m)\u001b[0m\u001b[1;33m)\u001b[0m\u001b[1;33m\u001b[0m\u001b[1;33m\u001b[0m\u001b[0m\n",
            "\u001b[1;32mD:\\ProgramFiles\\Anaconda\\lib\\site-packages\\joblib\\_parallel_backends.py\u001b[0m in \u001b[0;36mwrap_future_result\u001b[1;34m(future, timeout)\u001b[0m\n\u001b[0;32m    540\u001b[0m         AsyncResults.get from multiprocessing.\"\"\"\n\u001b[0;32m    541\u001b[0m         \u001b[1;32mtry\u001b[0m\u001b[1;33m:\u001b[0m\u001b[1;33m\u001b[0m\u001b[1;33m\u001b[0m\u001b[0m\n\u001b[1;32m--> 542\u001b[1;33m             \u001b[1;32mreturn\u001b[0m \u001b[0mfuture\u001b[0m\u001b[1;33m.\u001b[0m\u001b[0mresult\u001b[0m\u001b[1;33m(\u001b[0m\u001b[0mtimeout\u001b[0m\u001b[1;33m=\u001b[0m\u001b[0mtimeout\u001b[0m\u001b[1;33m)\u001b[0m\u001b[1;33m\u001b[0m\u001b[1;33m\u001b[0m\u001b[0m\n\u001b[0m\u001b[0;32m    543\u001b[0m         \u001b[1;32mexcept\u001b[0m \u001b[0mCfTimeoutError\u001b[0m \u001b[1;32mas\u001b[0m \u001b[0me\u001b[0m\u001b[1;33m:\u001b[0m\u001b[1;33m\u001b[0m\u001b[1;33m\u001b[0m\u001b[0m\n\u001b[0;32m    544\u001b[0m             \u001b[1;32mraise\u001b[0m \u001b[0mTimeoutError\u001b[0m \u001b[1;32mfrom\u001b[0m \u001b[0me\u001b[0m\u001b[1;33m\u001b[0m\u001b[1;33m\u001b[0m\u001b[0m\n",
            "\u001b[1;32mD:\\ProgramFiles\\Anaconda\\lib\\concurrent\\futures\\_base.py\u001b[0m in \u001b[0;36mresult\u001b[1;34m(self, timeout)\u001b[0m\n\u001b[0;32m    437\u001b[0m                     \u001b[1;32mreturn\u001b[0m \u001b[0mself\u001b[0m\u001b[1;33m.\u001b[0m\u001b[0m__get_result\u001b[0m\u001b[1;33m(\u001b[0m\u001b[1;33m)\u001b[0m\u001b[1;33m\u001b[0m\u001b[1;33m\u001b[0m\u001b[0m\n\u001b[0;32m    438\u001b[0m \u001b[1;33m\u001b[0m\u001b[0m\n\u001b[1;32m--> 439\u001b[1;33m                 \u001b[0mself\u001b[0m\u001b[1;33m.\u001b[0m\u001b[0m_condition\u001b[0m\u001b[1;33m.\u001b[0m\u001b[0mwait\u001b[0m\u001b[1;33m(\u001b[0m\u001b[0mtimeout\u001b[0m\u001b[1;33m)\u001b[0m\u001b[1;33m\u001b[0m\u001b[1;33m\u001b[0m\u001b[0m\n\u001b[0m\u001b[0;32m    440\u001b[0m \u001b[1;33m\u001b[0m\u001b[0m\n\u001b[0;32m    441\u001b[0m                 \u001b[1;32mif\u001b[0m \u001b[0mself\u001b[0m\u001b[1;33m.\u001b[0m\u001b[0m_state\u001b[0m \u001b[1;32min\u001b[0m \u001b[1;33m[\u001b[0m\u001b[0mCANCELLED\u001b[0m\u001b[1;33m,\u001b[0m \u001b[0mCANCELLED_AND_NOTIFIED\u001b[0m\u001b[1;33m]\u001b[0m\u001b[1;33m:\u001b[0m\u001b[1;33m\u001b[0m\u001b[1;33m\u001b[0m\u001b[0m\n",
            "\u001b[1;32mD:\\ProgramFiles\\Anaconda\\lib\\threading.py\u001b[0m in \u001b[0;36mwait\u001b[1;34m(self, timeout)\u001b[0m\n\u001b[0;32m    300\u001b[0m         \u001b[1;32mtry\u001b[0m\u001b[1;33m:\u001b[0m    \u001b[1;31m# restore state no matter what (e.g., KeyboardInterrupt)\u001b[0m\u001b[1;33m\u001b[0m\u001b[1;33m\u001b[0m\u001b[0m\n\u001b[0;32m    301\u001b[0m             \u001b[1;32mif\u001b[0m \u001b[0mtimeout\u001b[0m \u001b[1;32mis\u001b[0m \u001b[1;32mNone\u001b[0m\u001b[1;33m:\u001b[0m\u001b[1;33m\u001b[0m\u001b[1;33m\u001b[0m\u001b[0m\n\u001b[1;32m--> 302\u001b[1;33m                 \u001b[0mwaiter\u001b[0m\u001b[1;33m.\u001b[0m\u001b[0macquire\u001b[0m\u001b[1;33m(\u001b[0m\u001b[1;33m)\u001b[0m\u001b[1;33m\u001b[0m\u001b[1;33m\u001b[0m\u001b[0m\n\u001b[0m\u001b[0;32m    303\u001b[0m                 \u001b[0mgotit\u001b[0m \u001b[1;33m=\u001b[0m \u001b[1;32mTrue\u001b[0m\u001b[1;33m\u001b[0m\u001b[1;33m\u001b[0m\u001b[0m\n\u001b[0;32m    304\u001b[0m             \u001b[1;32melse\u001b[0m\u001b[1;33m:\u001b[0m\u001b[1;33m\u001b[0m\u001b[1;33m\u001b[0m\u001b[0m\n",
            "\u001b[1;31mKeyboardInterrupt\u001b[0m: "
          ]
        }
      ],
      "source": [
        "voting_clf_pca_soft_auc = cross_val_score(voting_clf_pca_soft, x_train_prepared_pca, y_train, cv=3, scoring=\"roc_auc\").mean()\n",
        "voting_clf_pca_soft_auc"
      ]
    },
    {
      "cell_type": "code",
      "execution_count": null,
      "metadata": {
        "id": "wj1Ws2xQFevs"
      },
      "outputs": [],
      "source": [
        "voting_clf_pca_soft_accuracy = cross_val_score(voting_clf_pca_soft, x_train_prepared_pca, y_train, cv=3, scoring=\"accuracy\").mean()\n",
        "voting_clf_pca_soft_accuracy"
      ]
    },
    {
      "cell_type": "code",
      "execution_count": null,
      "metadata": {
        "id": "uFl8p0yJeY32"
      },
      "outputs": [],
      "source": [
        "pickle.dump(voting_clf_pca_soft, open(\"voting_clf_pca_soft.sav\", 'wb'))"
      ]
    },
    {
      "cell_type": "code",
      "execution_count": null,
      "metadata": {
        "id": "sfPMly0YedvN"
      },
      "outputs": [],
      "source": [
        "voting_clf_pca_soft = pickle.load(open(\"voting_clf_pca_soft.sav\", 'rb'))"
      ]
    },
    {
      "cell_type": "markdown",
      "metadata": {
        "id": "eqlo4jfzKRFp"
      },
      "source": [
        "# Evaluation "
      ]
    },
    {
      "cell_type": "code",
      "execution_count": null,
      "metadata": {
        "id": "Yg7GKHgHTV6T"
      },
      "outputs": [],
      "source": [
        "model_names = [\"SGD\", \"Random Forest\", \"Linear SVC\", \"Logistic Regression\", \"Extra Trees\", \"Soft Voting\"]\n",
        "results_auc = [sgd_clf_auc, rf_clf_auc, lsvc_pca_auc, log_reg_pca_auc, extra_trees_clf_pca_auc, voting_clf_pca_soft_auc]\n",
        "\n",
        "data_auc = {\n",
        "    'Model': model_names, \n",
        "    'Area Under the Curve': results_auc\n",
        "    }\n",
        "auc_df = pd.DataFrame(data_auc)"
      ]
    },
    {
      "cell_type": "code",
      "execution_count": null,
      "metadata": {
        "colab": {
          "base_uri": "https://localhost:8080/",
          "height": 616
        },
        "id": "_mpSXR8VTbh2",
        "outputId": "fe067185-b3b2-472c-8dc0-c6bb264eafe0"
      },
      "outputs": [
        {
          "data": {
            "text/plain": [
              "<seaborn.axisgrid.FacetGrid at 0x23641c0a940>"
            ]
          },
          "execution_count": 102,
          "metadata": {
            "tags": []
          },
          "output_type": "execute_result"
        },
        {
          "data": {
            "image/png": "[encoded data removed]",
            "text/plain": [
              "<Figure size 864x576 with 1 Axes>"
            ]
          },
          "metadata": {
            "needs_background": "light",
            "tags": []
          },
          "output_type": "display_data"
        }
      ],
      "source": [
        "auc_catplot = sns.catplot(y=\"Model\", x=\"Area Under the Curve\", kind=\"bar\", height=8, aspect=1.5, orient='h',  data=auc_df)\n",
        "auc_catplot.set_xlabels(\"Area Under Curve (75%-80%)\")\n",
        "auc_catplot.set_yticklabels(fontsize=12, rotation=45)\n",
        "auc_catplot.set(xlim=(0.75,0.80))"
      ]
    },
    {
      "cell_type": "code",
      "execution_count": null,
      "metadata": {
        "id": "-ehSpYO4UMwO"
      },
      "outputs": [],
      "source": [
        "model_names = [\"SGD\", \"Random Forest\", \"Linear SVC\", \"Logistic Regression\", \"Extra Trees\", \"Soft Voting\"]\n",
        "results_auc = [sgd_clf_accuracy, rf_clf_accuracy, lsvc_pca_accuracy, log_reg_pca_accuracy, extra_trees_clf_pca_accuracy, voting_clf_pca_soft_accuracy]\n",
        "data_accuracy = {\n",
        "    'Model': model_names, \n",
        "    'Accuracy': results_auc\n",
        "    }\n",
        "accuracy_df = pd.DataFrame(data_accuracy) "
      ]
    },
    {
      "cell_type": "code",
      "execution_count": null,
      "metadata": {
        "colab": {
          "base_uri": "https://localhost:8080/",
          "height": 616
        },
        "id": "KoS9EF9SUXRK",
        "outputId": "3433cc52-a2f2-4530-f6b5-5469e72a683e"
      },
      "outputs": [
        {
          "data": {
            "text/plain": [
              "<seaborn.axisgrid.FacetGrid at 0x23669ec4100>"
            ]
          },
          "execution_count": 104,
          "metadata": {
            "tags": []
          },
          "output_type": "execute_result"
        },
        {
          "data": {
            "image/png": "[encoded data removed]",
            "text/plain": [
              "<Figure size 864x576 with 1 Axes>"
            ]
          },
          "metadata": {
            "needs_background": "light",
            "tags": []
          },
          "output_type": "display_data"
        }
      ],
      "source": [
        "accuracy_catplot = sns.catplot(y=\"Model\", x=\"Accuracy\", kind=\"bar\", height=8, aspect=1.5, orient='h',  data=accuracy_df)\n",
        "accuracy_catplot.set_xlabels(\"Accuracy (75%-80%)\")\n",
        "accuracy_catplot.set_yticklabels(fontsize=12, rotation=45)\n",
        "accuracy_catplot.set(xlim=(0.75, 0.80))"
      ]
    },
    {
      "cell_type": "markdown",
      "metadata": {
        "id": "jt8zBFEGSgrW"
      },
      "source": [
        "As you can see from the in the previous plot the model with highst AUC on training data is Soft Voting Classifier "
      ]
    },
    {
      "cell_type": "code",
      "execution_count": null,
      "metadata": {
        "id": "fb9vsR7xLtvT"
      },
      "outputs": [],
      "source": [
        "y_test_predicted = voting_clf_pca_soft.predict(x_test_prepared_pca)"
      ]
    },
    {
      "cell_type": "markdown",
      "metadata": {
        "id": "jU7EUrbALnES"
      },
      "source": [
        "## Analysis Metrics "
      ]
    },
    {
      "cell_type": "markdown",
      "metadata": {
        "id": "iybBLSuQVPrP"
      },
      "source": [
        "### Analysis of the distribution"
      ]
    },
    {
      "cell_type": "markdown",
      "metadata": {
        "id": "b41yuEzTVT0b"
      },
      "source": [
        "### Confusion Matrix"
      ]
    },
    {
      "cell_type": "code",
      "execution_count": null,
      "metadata": {
        "colab": {
          "base_uri": "https://localhost:8080/",
          "height": 367
        },
        "id": "BJa4QOLsKVy-",
        "outputId": "0d60b100-2ecc-4019-c70d-04fd4da4f8bd"
      },
      "outputs": [
        {
          "data": {
            "text/plain": [
              "Text(0.5, 24.0, 'Prediction')"
            ]
          },
          "execution_count": 107,
          "metadata": {
            "tags": []
          },
          "output_type": "execute_result"
        },
        {
          "data": {
            "image/png": "[encoded data removed]",
            "text/plain": [
              "<Figure size 360x360 with 1 Axes>"
            ]
          },
          "metadata": {
            "needs_background": "light",
            "tags": []
          },
          "output_type": "display_data"
        }
      ],
      "source": [
        "from sklearn.metrics import confusion_matrix\n",
        "\n",
        "cm = confusion_matrix(y_test, y_test_predicted)\n",
        "plt.figure(figsize=(5,5))\n",
        "sns.heatmap(cm, annot=True, fmt=\"d\", cbar=False)\n",
        "plt.title('Confusion Matrix')\n",
        "plt.ylabel('Actual')\n",
        "plt.xlabel('Prediction')"
      ]
    },
    {
      "cell_type": "markdown",
      "metadata": {
        "id": "eotA42GrVagH"
      },
      "source": [
        "### Other Metrics"
      ]
    },
    {
      "cell_type": "code",
      "execution_count": null,
      "metadata": {
        "colab": {
          "base_uri": "https://localhost:8080/"
        },
        "id": "bKjIFguaPZ2v",
        "outputId": "67004e01-88cd-4cad-ca7c-6e6446080d79"
      },
      "outputs": [
        {
          "name": "stdout",
          "output_type": "stream",
          "text": [
            "Precision: 0.6442953020134228\n",
            "Recall: 0.3333333333333333\n",
            "Accuracy: 0.7698449976514796\n",
            "AUC: 0.6325391714960292\n"
          ]
        }
      ],
      "source": [
        "precision = precision_score(y_test, y_test_predicted)\n",
        "recall = recall_score(y_test, y_test_predicted)\n",
        "accuracy = accuracy_score(y_test, y_test_predicted)\n",
        "auc = roc_auc_score(y_test, y_test_predicted)\n",
        "print('Precision:', precision)\n",
        "print('Recall:', recall)\n",
        "print('Accuracy:', accuracy)\n",
        "print('AUC:', auc)"
      ]
    },
    {
      "cell_type": "code",
      "execution_count": null,
      "metadata": {
        "colab": {
          "base_uri": "https://localhost:8080/",
          "height": 405
        },
        "id": "Sl1E-RfTMWXV",
        "outputId": "8d6d0da0-f9fd-431c-924b-da94d66fe592"
      },
      "outputs": [
        {
          "data": {
            "text/plain": [
              "Text(0, 0.5, 'TPR')"
            ]
          },
          "execution_count": 109,
          "metadata": {
            "tags": []
          },
          "output_type": "execute_result"
        },
        {
          "data": {
            "image/png": "[encoded data removed]",
            "text/plain": [
              "<Figure size 720x432 with 1 Axes>"
            ]
          },
          "metadata": {
            "needs_background": "light",
            "tags": []
          },
          "output_type": "display_data"
        }
      ],
      "source": [
        "fpr, tpr, thresholds = roc_curve(y_test, y_test_predicted)\n",
        "\n",
        "plt.subplots(figsize=(10, 6))\n",
        "plt.plot(fpr, tpr, 'o-', label=\"ROC curve\")\n",
        "plt.plot(np.linspace(0,1,10), np.linspace(0,1,10), label=\"diagonal\")\n",
        "\n",
        "rnd_idx = 1\n",
        "plt.annotate(\n",
        "                'Dieser Punkt bezieht sich auf die tpr und fpr\\n mit der threshold von {}'.format(np.round(thresholds[rnd_idx], 2)), \n",
        "                xy=(fpr[rnd_idx], \n",
        "                tpr[rnd_idx]), \n",
        "                xytext=(fpr[rnd_idx]+0.2, \n",
        "                tpr[rnd_idx]-0.25),\n",
        "                arrowprops=dict(\n",
        "                color='Black', \n",
        "                lw=2, \n",
        "                arrowstyle='->')\n",
        "            )\n",
        "plt.legend(loc=\"upper left\")\n",
        "plt.xlabel(\"FPR\")\n",
        "plt.ylabel(\"TPR\")"
      ]
    },
    {
      "cell_type": "markdown",
      "metadata": {
        "id": "dAv3UEcqW1iO"
      },
      "source": [
        "### Cut Off Point"
      ]
    },
    {
      "cell_type": "code",
      "execution_count": null,
      "metadata": {
        "id": "J4e6dDQncQiG"
      },
      "outputs": [],
      "source": [
        "cal_clf_cv = CalibratedClassifierCV(voting_clf_pca_soft)"
      ]
    },
    {
      "cell_type": "code",
      "execution_count": null,
      "metadata": {
        "id": "D9DqJ03MG2PG",
        "outputId": "3423e3e9-5a3a-4235-e14e-41750084f4d0"
      },
      "outputs": [
        {
          "data": {
            "text/plain": [
              "CalibratedClassifierCV(base_estimator=VotingClassifier(estimators=[('rf_clf',\n",
              "                                                                    RandomForestClassifier(class_weight='balanced',\n",
              "                                                                                           criterion='entropy',\n",
              "                                                                                           max_features='log2',\n",
              "                                                                                           n_estimators=2000,\n",
              "                                                                                           n_jobs=-1,\n",
              "                                                                                           random_state=42)),\n",
              "                                                                   ('log_reg_pca',\n",
              "                                                                    LogisticRegression(random_state=42,\n",
              "                                                                                       solver='liblinear')),\n",
              "                                                                   ('extra_trees_clf_pca',\n",
              "                                                                    ExtraTreesClassifier(max_depth=15,\n",
              "                                                                                         n_estimators=500,\n",
              "                                                                                         n_jobs=-1,\n",
              "                                                                                         random_state=42))],\n",
              "                                                       n_jobs=4,\n",
              "                                                       voting='soft'))"
            ]
          },
          "execution_count": 82,
          "metadata": {
            "tags": []
          },
          "output_type": "execute_result"
        }
      ],
      "source": [
        "cal_clf_cv.fit(x_train_prepared_pca, y_train)"
      ]
    },
    {
      "cell_type": "code",
      "execution_count": null,
      "metadata": {
        "id": "unTRaX3Le__L"
      },
      "outputs": [],
      "source": [
        "pickle.dump(cal_clf_cv, open(\"cal_clf_cv.sav\", 'wb'))"
      ]
    },
    {
      "cell_type": "code",
      "execution_count": null,
      "metadata": {
        "id": "xWRxzSsmfE_C"
      },
      "outputs": [],
      "source": [
        "# cal_clf_cv = pickle.load(open(\"cal_clf_cv.sav\", 'rb'))"
      ]
    },
    {
      "cell_type": "code",
      "execution_count": null,
      "metadata": {
        "id": "xOkNzmrefNH_"
      },
      "outputs": [],
      "source": [
        "y_pred = cal_clf_cv.predict_proba(x_train_prepared_pca)"
      ]
    },
    {
      "cell_type": "code",
      "execution_count": null,
      "metadata": {
        "id": "jb-u3QWCG2PJ"
      },
      "outputs": [],
      "source": [
        "y_pred_1 = np.hsplit(y_pred, [1])[1]"
      ]
    },
    {
      "cell_type": "code",
      "execution_count": null,
      "metadata": {
        "id": "ZdwaNriSW41x"
      },
      "outputs": [],
      "source": [
        "auc = []\n",
        "acc = []\n",
        "cut_off = []\n",
        "for i in range(0,1001, 1):\n",
        "    y_t_p_p_p_c = np.where(y_pred_1 > (i/1000), 1, 0)\n",
        "    auc.append(roc_auc_score(y_train, y_t_p_p_p_c))\n",
        "    acc.append(accuracy_score(y_train, y_t_p_p_p_c))\n",
        "    cut_off.append(i/1000)"
      ]
    },
    {
      "cell_type": "code",
      "execution_count": null,
      "metadata": {
        "id": "yGDp9Pqhl2_C"
      },
      "outputs": [],
      "source": [
        "df_cut_off = pd.DataFrame([auc, acc, cut_off]).T\n",
        "df_cut_off.columns = ['auc', 'acc', 'cut_off']"
      ]
    },
    {
      "cell_type": "code",
      "execution_count": null,
      "metadata": {
        "id": "Ypqr1whElmCL",
        "outputId": "9d2e30af-9c62-4604-edb9-853802418a30"
      },
      "outputs": [
        {
          "data": {
            "image/png": "[encoded data removed]",
            "text/plain": [
              "<Figure size 432x288 with 1 Axes>"
            ]
          },
          "metadata": {
            "needs_background": "light",
            "tags": []
          },
          "output_type": "display_data"
        }
      ],
      "source": [
        "fig, ax = plt.subplots()\n",
        "ax.plot('cut_off', 'auc', data = df_cut_off, linestyle='dashed')\n",
        "plt.xlabel(\"Cut-Off Value\")\n",
        "plt.ylabel(\"Area under the Curve\")\n",
        "plt.show()"
      ]
    },
    {
      "cell_type": "code",
      "execution_count": null,
      "metadata": {
        "id": "3LcAvDKhG2PL",
        "outputId": "e444dc27-10f4-4303-88d8-b49023bf56d3"
      },
      "outputs": [
        {
          "data": {
            "image/png": "[encoded data removed]",
            "text/plain": [
              "<Figure size 432x288 with 1 Axes>"
            ]
          },
          "metadata": {
            "needs_background": "light",
            "tags": []
          },
          "output_type": "display_data"
        }
      ],
      "source": [
        "fig, ax = plt.subplots()\n",
        "ax.plot('cut_off', 'acc', data = df_cut_off, linestyle='dashed')\n",
        "plt.xlabel(\"Cut-Off Value\")\n",
        "plt.ylabel(\"Accuracy\")\n",
        "plt.show()"
      ]
    },
    {
      "cell_type": "code",
      "execution_count": null,
      "metadata": {
        "id": "3ywF7j6LG2PM",
        "outputId": "927f3fda-7cd0-4365-8272-d3cf0cb90593"
      },
      "outputs": [
        {
          "data": {
            "text/plain": [
              "0.246"
            ]
          },
          "execution_count": 89,
          "metadata": {
            "tags": []
          },
          "output_type": "execute_result"
        }
      ],
      "source": [
        "# best cut off for the area under curve\n",
        "best_cut_off_auc = df_cut_off['cut_off'][df_cut_off['auc'].idxmax()]\n",
        "best_cut_off_auc"
      ]
    },
    {
      "cell_type": "code",
      "execution_count": null,
      "metadata": {
        "id": "FvjxlEbyG2PN",
        "outputId": "f10f153f-ecab-4213-870a-ade67ee0f897"
      },
      "outputs": [
        {
          "data": {
            "text/plain": [
              "0.261"
            ]
          },
          "execution_count": 90,
          "metadata": {
            "tags": []
          },
          "output_type": "execute_result"
        }
      ],
      "source": [
        "best_cut_off_acc = df_cut_off['cut_off'][df_cut_off['acc'].idxmax()]\n",
        "best_cut_off_acc"
      ]
    },
    {
      "cell_type": "code",
      "execution_count": null,
      "metadata": {
        "id": "rqXopvmyG2PO",
        "outputId": "9c526419-f216-40c2-96e9-452dbbd3e489"
      },
      "outputs": [
        {
          "data": {
            "text/plain": [
              "0.9340234496074467"
            ]
          },
          "execution_count": 91,
          "metadata": {
            "tags": []
          },
          "output_type": "execute_result"
        }
      ],
      "source": [
        "# best Area under Curve for the training data\n",
        "df_cut_off['auc'].max()"
      ]
    },
    {
      "cell_type": "code",
      "execution_count": null,
      "metadata": {
        "id": "I26TLiktG2PO",
        "outputId": "0a22dd52-5ab3-434e-d648-d9cab7836f82"
      },
      "outputs": [
        {
          "data": {
            "text/plain": [
              "0.9101680759995824"
            ]
          },
          "execution_count": 93,
          "metadata": {
            "tags": []
          },
          "output_type": "execute_result"
        }
      ],
      "source": [
        "acc[261]"
      ]
    },
    {
      "cell_type": "markdown",
      "metadata": {
        "id": "tFq0KUAIG2PP"
      },
      "source": [
        "# The Result "
      ]
    },
    {
      "cell_type": "code",
      "execution_count": null,
      "metadata": {
        "id": "dGA43cocG2PQ"
      },
      "outputs": [],
      "source": [
        "y_pred_test = cal_clf_cv.predict_proba(x_test_prepared_pca)"
      ]
    },
    {
      "cell_type": "code",
      "execution_count": null,
      "metadata": {
        "id": "8VzaZ8ffG2PQ"
      },
      "outputs": [],
      "source": [
        "y_pred_test_1 = np.hsplit(y_pred_test, [1])[1]"
      ]
    },
    {
      "cell_type": "code",
      "execution_count": null,
      "metadata": {
        "id": "mAl0lQ_sG2PS"
      },
      "outputs": [],
      "source": [
        "y_pred_test_1 = np.array([y_pred_test_1 > 0.215]).astype(np.int)"
      ]
    },
    {
      "cell_type": "code",
      "execution_count": null,
      "metadata": {
        "id": "KQX7EgSEG2PT"
      },
      "outputs": [],
      "source": [
        "y_pred_test_1 = y_pred_test_1.reshape(-1)"
      ]
    },
    {
      "cell_type": "code",
      "execution_count": null,
      "metadata": {
        "id": "vDGi92WSG2PU",
        "outputId": "b95060a3-7130-45af-c5e0-a25bcaa06f61"
      },
      "outputs": [
        {
          "data": {
            "text/plain": [
              "0.7149384927022966"
            ]
          },
          "execution_count": 99,
          "metadata": {
            "tags": []
          },
          "output_type": "execute_result"
        }
      ],
      "source": [
        "roc_auc_score(y_test, y_pred_test_1)"
      ]
    },
    {
      "cell_type": "code",
      "execution_count": null,
      "metadata": {
        "id": "AoPoQ4TMG2PV",
        "outputId": "8e1be333-ddde-4c6c-ca4b-e22fbc4bb33b"
      },
      "outputs": [
        {
          "data": {
            "text/plain": [
              "0.7299201503053077"
            ]
          },
          "execution_count": 100,
          "metadata": {
            "tags": []
          },
          "output_type": "execute_result"
        }
      ],
      "source": [
        "accuracy_score(y_test, y_pred_test_1)"
      ]
    },
    {
      "cell_type": "code",
      "execution_count": null,
      "metadata": {
        "id": "B-q4J3tvG2PV",
        "outputId": "9c63c032-b62a-48d0-c53e-5a1761c885e4"
      },
      "outputs": [
        {
          "data": {
            "text/plain": [
              "Text(0, 0.5, 'TPR')"
            ]
          },
          "execution_count": 101,
          "metadata": {
            "tags": []
          },
          "output_type": "execute_result"
        },
        {
          "data": {
            "image/png": "[encoded data removed]",
            "text/plain": [
              "<Figure size 720x432 with 1 Axes>"
            ]
          },
          "metadata": {
            "needs_background": "light",
            "tags": []
          },
          "output_type": "display_data"
        }
      ],
      "source": [
        "fpr, tpr, thresholds = roc_curve(y_test, y_pred_test_1)\n",
        "\n",
        "plt.subplots(figsize=(10, 6))\n",
        "plt.plot(fpr, tpr, 'o-', label=\"ROC curve\")\n",
        "plt.plot(np.linspace(0,1,10), np.linspace(0,1,10), label=\"diagonal\")\n",
        "\n",
        "rnd_idx = 1\n",
        "plt.annotate(\n",
        "                'Dieser Punkt bezieht sich auf die tpr und fpr\\n mit der threshold von {}'.format(np.round(thresholds[rnd_idx], 2)), \n",
        "                xy=(fpr[rnd_idx], \n",
        "                tpr[rnd_idx]), \n",
        "                xytext=(fpr[rnd_idx]+0.2, \n",
        "                tpr[rnd_idx]-0.25),\n",
        "                arrowprops=dict(\n",
        "                color='Black', \n",
        "                lw=2, \n",
        "                arrowstyle='->')\n",
        "            )\n",
        "plt.legend(loc=\"upper left\")\n",
        "plt.xlabel(\"FPR\")\n",
        "plt.ylabel(\"TPR\")"
      ]
    },
    {
      "cell_type": "code",
      "execution_count": null,
      "metadata": {
        "id": "01HTJoUOG2PW",
        "outputId": "3fbc57ba-55e1-4015-ea35-aa327c4a6e96"
      },
      "outputs": [
        {
          "data": {
            "text/plain": [
              "Text(0.5, 24.0, 'Prediction')"
            ]
          },
          "execution_count": 102,
          "metadata": {
            "tags": []
          },
          "output_type": "execute_result"
        },
        {
          "data": {
            "image/png": "[encoded data removed]",
            "text/plain": [
              "<Figure size 360x360 with 1 Axes>"
            ]
          },
          "metadata": {
            "needs_background": "light",
            "tags": []
          },
          "output_type": "display_data"
        }
      ],
      "source": [
        "from sklearn.metrics import confusion_matrix\n",
        "\n",
        "cm = confusion_matrix(y_test, y_pred_test_1)\n",
        "plt.figure(figsize=(5,5))\n",
        "sns.heatmap(cm, annot=True, fmt=\"d\", cbar=False)\n",
        "plt.title('Confusion Matrix')\n",
        "plt.ylabel('Actual')\n",
        "plt.xlabel('Prediction')"
      ]
    }
  ],
  "metadata": {
    "accelerator": "GPU",
    "colab": {
      "collapsed_sections": [
        "ddyiLM6kudyg",
        "b41yuEzTVT0b",
        "QluU2Nj7_3N8"
      ],
      "name": "INF502 - Projektcode.ipynb",
      "provenance": []
    },
    "interpreter": {
      "hash": "10802dce9f069b82412850661e2e4b80e23db13a4e6b9a453ed137bea924daf7"
    },
    "kernelspec": {
      "display_name": "Python 3",
      "language": "python",
      "name": "python3"
    },
    "language_info": {
      "codemirror_mode": {
        "name": "ipython",
        "version": 3
      },
      "file_extension": ".py",
      "mimetype": "text/x-python",
      "name": "python",
      "nbconvert_exporter": "python",
      "pygments_lexer": "ipython3",
      "version": "3.8.3"
    },
    "toc": {
      "base_numbering": 1,
      "nav_menu": {
        "height": "391.989px",
        "width": "370px"
      },
      "number_sections": true,
      "sideBar": true,
      "skip_h1_title": false,
      "title_cell": "Table of Contents",
      "title_sidebar": "Contents",
      "toc_cell": false,
      "toc_position": {
        "height": "calc(100% - 180px)",
        "left": "10px",
        "top": "150px",
        "width": "275.237px"
      },
      "toc_section_display": true,
      "toc_window_display": true
    },
    "varInspector": {
      "cols": {
        "lenName": 16,
        "lenType": 16,
        "lenVar": 40
      },
      "kernels_config": {
        "python": {
          "delete_cmd_postfix": "",
          "delete_cmd_prefix": "del ",
          "library": "var_list.py",
          "varRefreshCmd": "print(var_dic_list())"
        },
        "r": {
          "delete_cmd_postfix": ") ",
          "delete_cmd_prefix": "rm(",
          "library": "var_list.r",
          "varRefreshCmd": "cat(var_dic_list()) "
        }
      },
      "position": {
        "height": "588.736px",
        "left": "1286.45px",
        "right": "20px",
        "top": "144.989px",
        "width": "357.003px"
      },
      "types_to_exclude": [
        "module",
        "function",
        "builtin_function_or_method",
        "instance",
        "_Feature"
      ],
      "window_display": false
    }
  },
  "nbformat": 4,
  "nbformat_minor": 0
}